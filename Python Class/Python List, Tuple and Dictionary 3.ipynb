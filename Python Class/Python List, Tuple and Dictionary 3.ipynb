{
 "cells": [
  {
   "cell_type": "markdown",
   "id": "780459d2",
   "metadata": {},
   "source": [
    "# List"
   ]
  },
  {
   "cell_type": "markdown",
   "id": "92b553ae",
   "metadata": {},
   "source": [
    "Lists are used to store multiple items in a single variable.\n",
    "\n",
    "Lists are one of 4 built-in data types in Python used to store collections of data, the other 3 are Tuple, Set, and Dictionary, all with different qualities and usage.\n",
    "\n",
    "Lists are created using square brackets [ ].\n",
    " - Examples:"
   ]
  },
  {
   "cell_type": "code",
   "execution_count": 1,
   "id": "b34752cf",
   "metadata": {},
   "outputs": [
    {
     "name": "stdout",
     "output_type": "stream",
     "text": [
      "IJAN\n"
     ]
    }
   ],
   "source": [
    "name = 'IJAN'\n",
    "print(name)"
   ]
  },
  {
   "cell_type": "code",
   "execution_count": 3,
   "id": "155d2b39",
   "metadata": {},
   "outputs": [
    {
     "name": "stdout",
     "output_type": "stream",
     "text": [
      "[1, 2, 3, 2, 3, 5, 6, 7]\n",
      "<class 'list'>\n"
     ]
    }
   ],
   "source": [
    "my_list_of_num = [1,2,3,2,3,5,6,7]\n",
    "print(my_list_of_num)\n",
    "print(type(my_list_of_num))"
   ]
  },
  {
   "cell_type": "code",
   "execution_count": 4,
   "id": "cf67fcd3",
   "metadata": {},
   "outputs": [
    {
     "name": "stdout",
     "output_type": "stream",
     "text": [
      "['beans', 3.0, 80, 'rice', 'books', 'pen', 'pencil']\n"
     ]
    }
   ],
   "source": [
    "my_list_of_items = ['beans',3.0,80,'rice','books','pen', 'pencil']\n",
    "print(my_list_of_items)"
   ]
  },
  {
   "cell_type": "code",
   "execution_count": 5,
   "id": "136d176f",
   "metadata": {},
   "outputs": [
    {
     "name": "stdout",
     "output_type": "stream",
     "text": [
      "<class 'str'>\n"
     ]
    }
   ],
   "source": [
    "print(type('40.0'))"
   ]
  },
  {
   "cell_type": "code",
   "execution_count": 6,
   "id": "38943a4e",
   "metadata": {},
   "outputs": [
    {
     "name": "stdout",
     "output_type": "stream",
     "text": [
      "<class 'float'>\n"
     ]
    }
   ],
   "source": [
    "print(type(40.0))"
   ]
  },
  {
   "cell_type": "code",
   "execution_count": 7,
   "id": "55b8b4c7",
   "metadata": {},
   "outputs": [
    {
     "name": "stdout",
     "output_type": "stream",
     "text": [
      "bean\n"
     ]
    }
   ],
   "source": [
    "print('bean')"
   ]
  },
  {
   "cell_type": "code",
   "execution_count": 8,
   "id": "d4e1cc0d",
   "metadata": {},
   "outputs": [
    {
     "name": "stdout",
     "output_type": "stream",
     "text": [
      "<class 'str'>\n"
     ]
    }
   ],
   "source": [
    "print(type('bean'))"
   ]
  },
  {
   "cell_type": "markdown",
   "id": "dd439daa",
   "metadata": {},
   "source": [
    "text type  string"
   ]
  },
  {
   "cell_type": "markdown",
   "id": "9d454663",
   "metadata": {},
   "source": [
    "# List Items\n",
    "\n",
    "List items are:\n",
    " - ordered\n",
    " - changeable,\n",
    " - and allow duplicate values.\n",
    "\n",
    "List items are indexed, the first item has index [0], the second item has index [1] etc"
   ]
  },
  {
   "cell_type": "code",
   "execution_count": 30,
   "id": "2bebd64b",
   "metadata": {},
   "outputs": [
    {
     "name": "stdout",
     "output_type": "stream",
     "text": [
      "['apple', 'orange', 'mango']\n"
     ]
    }
   ],
   "source": [
    "# Starting from front apple is 0, orange is 1, mango is 2\n",
    "# Starting from back mango is -1, orange is -2, apple is -3\n",
    "# appl\n",
    "\n",
    "list_of_fruit = ['apple','orange','mango']\n",
    "print(list_of_fruit)"
   ]
  },
  {
   "cell_type": "code",
   "execution_count": 31,
   "id": "18afbdd9",
   "metadata": {},
   "outputs": [
    {
     "name": "stdout",
     "output_type": "stream",
     "text": [
      "orange\n"
     ]
    }
   ],
   "source": [
    "print(list_of_fruit[1])"
   ]
  },
  {
   "cell_type": "code",
   "execution_count": 32,
   "id": "32130edd",
   "metadata": {},
   "outputs": [
    {
     "name": "stdout",
     "output_type": "stream",
     "text": [
      "mango\n"
     ]
    }
   ],
   "source": [
    "print(list_of_fruit[-1])"
   ]
  },
  {
   "cell_type": "code",
   "execution_count": 33,
   "id": "df5239ec",
   "metadata": {},
   "outputs": [],
   "source": [
    "list_of_fruit[0] = 'water melon'"
   ]
  },
  {
   "cell_type": "code",
   "execution_count": 34,
   "id": "ee936c37",
   "metadata": {},
   "outputs": [
    {
     "name": "stdout",
     "output_type": "stream",
     "text": [
      "['water melon', 'orange', 'mango']\n"
     ]
    }
   ],
   "source": [
    "print(list_of_fruit)"
   ]
  },
  {
   "cell_type": "code",
   "execution_count": 35,
   "id": "f8eea31f",
   "metadata": {},
   "outputs": [
    {
     "name": "stdout",
     "output_type": "stream",
     "text": [
      "Abayomi\n"
     ]
    }
   ],
   "source": [
    "name = \"Abayomi\"\n",
    "print(name)"
   ]
  },
  {
   "cell_type": "code",
   "execution_count": 36,
   "id": "cccd945c",
   "metadata": {},
   "outputs": [
    {
     "name": "stdout",
     "output_type": "stream",
     "text": [
      "A\n"
     ]
    }
   ],
   "source": [
    "print(name[0])"
   ]
  },
  {
   "cell_type": "code",
   "execution_count": 37,
   "id": "239e2b66",
   "metadata": {},
   "outputs": [
    {
     "name": "stdout",
     "output_type": "stream",
     "text": [
      "y\n"
     ]
    }
   ],
   "source": [
    "print(name[3])"
   ]
  },
  {
   "cell_type": "code",
   "execution_count": 38,
   "id": "dd92fb89",
   "metadata": {},
   "outputs": [
    {
     "name": "stdout",
     "output_type": "stream",
     "text": [
      "i\n"
     ]
    }
   ],
   "source": [
    "print(name[-1])"
   ]
  },
  {
   "cell_type": "code",
   "execution_count": 39,
   "id": "5dcbc373",
   "metadata": {},
   "outputs": [
    {
     "name": "stdout",
     "output_type": "stream",
     "text": [
      "mango\n"
     ]
    }
   ],
   "source": [
    "print(list_of_fruit[2])"
   ]
  },
  {
   "cell_type": "code",
   "execution_count": 40,
   "id": "25cd8ac6",
   "metadata": {},
   "outputs": [
    {
     "name": "stdout",
     "output_type": "stream",
     "text": [
      "mango\n"
     ]
    }
   ],
   "source": [
    "print(list_of_fruit[-1])"
   ]
  },
  {
   "cell_type": "code",
   "execution_count": 41,
   "id": "94079efb",
   "metadata": {},
   "outputs": [
    {
     "name": "stdout",
     "output_type": "stream",
     "text": [
      "orange\n"
     ]
    }
   ],
   "source": [
    "print(list_of_fruit[1])"
   ]
  },
  {
   "cell_type": "code",
   "execution_count": 42,
   "id": "30e33a82",
   "metadata": {},
   "outputs": [
    {
     "name": "stdout",
     "output_type": "stream",
     "text": [
      "water melon\n"
     ]
    }
   ],
   "source": [
    "print(list_of_fruit[0])"
   ]
  },
  {
   "cell_type": "markdown",
   "id": "6b256989",
   "metadata": {},
   "source": [
    "## Changeable"
   ]
  },
  {
   "cell_type": "code",
   "execution_count": 43,
   "id": "e06327d6",
   "metadata": {},
   "outputs": [
    {
     "name": "stdout",
     "output_type": "stream",
     "text": [
      "['water melon', 'orange', 'mango']\n"
     ]
    }
   ],
   "source": [
    "print(list_of_fruit)"
   ]
  },
  {
   "cell_type": "code",
   "execution_count": 44,
   "id": "08cadb34",
   "metadata": {},
   "outputs": [],
   "source": [
    "list_of_fruit[2] = 'pepper'"
   ]
  },
  {
   "cell_type": "code",
   "execution_count": 45,
   "id": "5e94daf7",
   "metadata": {},
   "outputs": [
    {
     "name": "stdout",
     "output_type": "stream",
     "text": [
      "['water melon', 'orange', 'pepper']\n"
     ]
    }
   ],
   "source": [
    "print(list_of_fruit)"
   ]
  },
  {
   "cell_type": "markdown",
   "id": "4e8ba607",
   "metadata": {},
   "source": [
    "# Duplicate"
   ]
  },
  {
   "cell_type": "code",
   "execution_count": 46,
   "id": "7056660d",
   "metadata": {},
   "outputs": [
    {
     "name": "stdout",
     "output_type": "stream",
     "text": [
      "['water melon', 'orange', 'pepper']\n"
     ]
    }
   ],
   "source": [
    "print(list_of_fruit)"
   ]
  },
  {
   "cell_type": "code",
   "execution_count": 47,
   "id": "1b22f47b",
   "metadata": {},
   "outputs": [],
   "source": [
    "list_of_fruit[2] = 'orange'"
   ]
  },
  {
   "cell_type": "code",
   "execution_count": 29,
   "id": "3d703d14",
   "metadata": {},
   "outputs": [
    {
     "name": "stdout",
     "output_type": "stream",
     "text": [
      "['water melon', 'orange', 'orange']\n"
     ]
    }
   ],
   "source": [
    "print(list_of_fruit)"
   ]
  },
  {
   "cell_type": "code",
   "execution_count": 48,
   "id": "d7ffee97",
   "metadata": {},
   "outputs": [
    {
     "name": "stdout",
     "output_type": "stream",
     "text": [
      "{'orange', 'water melon'}\n"
     ]
    }
   ],
   "source": [
    "print(set(list_of_fruit))"
   ]
  },
  {
   "cell_type": "code",
   "execution_count": 49,
   "id": "2bdfa03c",
   "metadata": {
    "scrolled": true
   },
   "outputs": [
    {
     "name": "stdout",
     "output_type": "stream",
     "text": [
      "['water melon', 'orange', 'orange']\n"
     ]
    }
   ],
   "source": [
    "print(list_of_fruit)"
   ]
  },
  {
   "cell_type": "code",
   "execution_count": 50,
   "id": "f17fa5f1",
   "metadata": {},
   "outputs": [
    {
     "name": "stdout",
     "output_type": "stream",
     "text": [
      "<class 'list'>\n"
     ]
    }
   ],
   "source": [
    "print(type(list_of_fruit))"
   ]
  },
  {
   "cell_type": "code",
   "execution_count": 51,
   "id": "2d33c9ef",
   "metadata": {},
   "outputs": [
    {
     "name": "stdout",
     "output_type": "stream",
     "text": [
      "{'apple', 'pepper'}\n"
     ]
    }
   ],
   "source": [
    "s = {'apple', 'apple', 'pepper'}\n",
    "print(s)"
   ]
  },
  {
   "cell_type": "code",
   "execution_count": 52,
   "id": "60f287b2",
   "metadata": {},
   "outputs": [
    {
     "name": "stdout",
     "output_type": "stream",
     "text": [
      "{1, 2, 3, 4}\n"
     ]
    }
   ],
   "source": [
    "num = {1,2,3,4,1,3,4,3,4,4}\n",
    "print(num)"
   ]
  },
  {
   "cell_type": "code",
   "execution_count": 53,
   "id": "5d255e1b",
   "metadata": {},
   "outputs": [
    {
     "name": "stdout",
     "output_type": "stream",
     "text": [
      "[1, 2, 3, 4, 1, 3, 4, 3, 4, 4]\n"
     ]
    }
   ],
   "source": [
    "num = [1,2,3,4,1,3,4,3,4,4]\n",
    "print(num)"
   ]
  },
  {
   "cell_type": "code",
   "execution_count": null,
   "id": "0a79175e",
   "metadata": {},
   "outputs": [],
   "source": [
    "print(type(s))"
   ]
  },
  {
   "cell_type": "markdown",
   "id": "ad6ab3be",
   "metadata": {},
   "source": [
    "# List built-in method\n",
    " - append\n",
    " - extend\n",
    " - insert\n",
    " - pop\n",
    " - index\n",
    " - remove\n",
    " - clear \n",
    " - count\n",
    " - reverse "
   ]
  },
  {
   "cell_type": "markdown",
   "id": "5cd84505",
   "metadata": {},
   "source": [
    "# Append"
   ]
  },
  {
   "cell_type": "code",
   "execution_count": 54,
   "id": "09b9eeac",
   "metadata": {},
   "outputs": [
    {
     "name": "stdout",
     "output_type": "stream",
     "text": [
      "['Python', 'Microsoft Excel', 'Languages', 'UI/UX']\n"
     ]
    }
   ],
   "source": [
    "names_of_courses_in_ijan = ['Python', 'Microsoft Excel', 'Languages','UI/UX']\n",
    "print(names_of_courses_in_ijan)"
   ]
  },
  {
   "cell_type": "code",
   "execution_count": 55,
   "id": "d8cf04e3",
   "metadata": {},
   "outputs": [],
   "source": [
    "names_of_courses_in_ijan.append('Javascript')"
   ]
  },
  {
   "cell_type": "code",
   "execution_count": 56,
   "id": "44f3bed9",
   "metadata": {},
   "outputs": [
    {
     "name": "stdout",
     "output_type": "stream",
     "text": [
      "['Python', 'Microsoft Excel', 'Languages', 'UI/UX', 'Javascript']\n"
     ]
    }
   ],
   "source": [
    "print(names_of_courses_in_ijan)"
   ]
  },
  {
   "cell_type": "markdown",
   "id": "bdaf31cf",
   "metadata": {},
   "source": [
    "# Extend"
   ]
  },
  {
   "cell_type": "code",
   "execution_count": 57,
   "id": "16d3093b",
   "metadata": {},
   "outputs": [
    {
     "name": "stdout",
     "output_type": "stream",
     "text": [
      "['Python', 'Microsoft Excel', 'Languages', 'UI/UX', 'Javascript']\n"
     ]
    }
   ],
   "source": [
    "print(names_of_courses_in_ijan)"
   ]
  },
  {
   "cell_type": "code",
   "execution_count": 58,
   "id": "a2a18627",
   "metadata": {},
   "outputs": [],
   "source": [
    "names_of_courses_in_ijan.extend(['graphics','french','spanish'])"
   ]
  },
  {
   "cell_type": "code",
   "execution_count": 59,
   "id": "c223a863",
   "metadata": {},
   "outputs": [
    {
     "name": "stdout",
     "output_type": "stream",
     "text": [
      "['Python', 'Microsoft Excel', 'Languages', 'UI/UX', 'Javascript', 'graphics', 'french', 'spanish']\n"
     ]
    }
   ],
   "source": [
    "print(names_of_courses_in_ijan)"
   ]
  },
  {
   "cell_type": "markdown",
   "id": "c4abe1eb",
   "metadata": {},
   "source": [
    "# Insert "
   ]
  },
  {
   "cell_type": "code",
   "execution_count": 60,
   "id": "9120ccc6",
   "metadata": {},
   "outputs": [
    {
     "name": "stdout",
     "output_type": "stream",
     "text": [
      "[1, 2, 3, 4, 5, 8, 9, 10]\n"
     ]
    }
   ],
   "source": [
    "# create a list of  numbers\n",
    "numbers = [1,2,3,4,5,8,9,10]\n",
    "print(numbers)"
   ]
  },
  {
   "cell_type": "code",
   "execution_count": 61,
   "id": "677ff58e",
   "metadata": {},
   "outputs": [
    {
     "name": "stdout",
     "output_type": "stream",
     "text": [
      "[1, 2, 3, 4, 5, 6, 8, 9, 10]\n"
     ]
    }
   ],
   "source": [
    "# insert 20 at index 4\n",
    "\n",
    "numbers.insert(5, 6)\n",
    "\n",
    "\n",
    "print(numbers)"
   ]
  },
  {
   "cell_type": "code",
   "execution_count": 62,
   "id": "d25e118b",
   "metadata": {},
   "outputs": [
    {
     "name": "stdout",
     "output_type": "stream",
     "text": [
      "[1, 2, 3, 4, 5, 6, 7, 8, 9, 10]\n"
     ]
    }
   ],
   "source": [
    "# insert 20 at index 4\n",
    "\n",
    "numbers.insert(6, 7)\n",
    "\n",
    "\n",
    "print(numbers)"
   ]
  },
  {
   "cell_type": "code",
   "execution_count": null,
   "id": "a1c3af05",
   "metadata": {},
   "outputs": [],
   "source": [
    "# insert 20 at index 4\n",
    "\n",
    "numbers.insert(5, \"boy\")\n",
    "\n",
    "\n",
    "print(numbers)"
   ]
  },
  {
   "cell_type": "markdown",
   "id": "4017a174",
   "metadata": {},
   "source": [
    "# POP"
   ]
  },
  {
   "cell_type": "code",
   "execution_count": 63,
   "id": "ed285859",
   "metadata": {},
   "outputs": [
    {
     "name": "stdout",
     "output_type": "stream",
     "text": [
      "['Python', 'Microsoft Excel', 'Languages', 'UI/UX', 'Javascript', 'graphics', 'french', 'spanish']\n"
     ]
    }
   ],
   "source": [
    "print(names_of_courses_in_ijan)"
   ]
  },
  {
   "cell_type": "code",
   "execution_count": 64,
   "id": "34438134",
   "metadata": {},
   "outputs": [
    {
     "data": {
      "text/plain": [
       "'Python'"
      ]
     },
     "execution_count": 64,
     "metadata": {},
     "output_type": "execute_result"
    }
   ],
   "source": [
    "# remove and return the 4th item\n",
    "\n",
    "names_of_courses_in_ijan.pop(0)\n",
    "#It is always used for removing the last element of a list"
   ]
  },
  {
   "cell_type": "code",
   "execution_count": 65,
   "id": "19641627",
   "metadata": {},
   "outputs": [
    {
     "name": "stdout",
     "output_type": "stream",
     "text": [
      "['Microsoft Excel', 'Languages', 'UI/UX', 'Javascript', 'graphics', 'french', 'spanish']\n"
     ]
    }
   ],
   "source": [
    "print(names_of_courses_in_ijan)"
   ]
  },
  {
   "cell_type": "markdown",
   "id": "4a620232",
   "metadata": {},
   "source": [
    "# Index"
   ]
  },
  {
   "cell_type": "code",
   "execution_count": 66,
   "id": "f21a75f4",
   "metadata": {},
   "outputs": [
    {
     "name": "stdout",
     "output_type": "stream",
     "text": [
      "['Microsoft Excel', 'Languages', 'UI/UX', 'Javascript', 'graphics', 'french', 'spanish']\n"
     ]
    }
   ],
   "source": [
    "print(names_of_courses_in_ijan)"
   ]
  },
  {
   "cell_type": "code",
   "execution_count": 67,
   "id": "882edb53",
   "metadata": {},
   "outputs": [
    {
     "name": "stdout",
     "output_type": "stream",
     "text": [
      "3\n"
     ]
    }
   ],
   "source": [
    "print(names_of_courses_in_ijan.index('Javascript'))"
   ]
  },
  {
   "cell_type": "markdown",
   "id": "a795b65c",
   "metadata": {},
   "source": [
    "# Remove"
   ]
  },
  {
   "cell_type": "code",
   "execution_count": 68,
   "id": "75558476",
   "metadata": {},
   "outputs": [
    {
     "name": "stdout",
     "output_type": "stream",
     "text": [
      "['Microsoft Excel', 'Languages', 'UI/UX', 'Javascript', 'graphics', 'french', 'spanish']\n"
     ]
    }
   ],
   "source": [
    "print(names_of_courses_in_ijan)"
   ]
  },
  {
   "cell_type": "code",
   "execution_count": 69,
   "id": "6c9c66e3",
   "metadata": {},
   "outputs": [],
   "source": [
    "names_of_courses_in_ijan.remove('Javascript')"
   ]
  },
  {
   "cell_type": "code",
   "execution_count": 70,
   "id": "854d25f5",
   "metadata": {},
   "outputs": [
    {
     "name": "stdout",
     "output_type": "stream",
     "text": [
      "['Microsoft Excel', 'Languages', 'UI/UX', 'graphics', 'french', 'spanish']\n"
     ]
    }
   ],
   "source": [
    "print(names_of_courses_in_ijan)"
   ]
  },
  {
   "cell_type": "markdown",
   "id": "38ded48a",
   "metadata": {},
   "source": [
    "# Clear"
   ]
  },
  {
   "cell_type": "code",
   "execution_count": 71,
   "id": "0ee2b102",
   "metadata": {},
   "outputs": [
    {
     "name": "stdout",
     "output_type": "stream",
     "text": [
      "[{1, 2}, 'a', ['1.1', '2.2']]\n"
     ]
    }
   ],
   "source": [
    "# Defining a list\n",
    "l = [{1, 2}, ('a'), ['1.1', '2.2']]\n",
    "\n",
    "print(l)"
   ]
  },
  {
   "cell_type": "code",
   "execution_count": 72,
   "id": "eb824248",
   "metadata": {},
   "outputs": [
    {
     "name": "stdout",
     "output_type": "stream",
     "text": [
      "[]\n"
     ]
    }
   ],
   "source": [
    "# clearing the list\n",
    "l.clear()\n",
    "\n",
    "\n",
    "print(l)"
   ]
  },
  {
   "cell_type": "markdown",
   "id": "e2994ccc",
   "metadata": {},
   "source": [
    "# Count"
   ]
  },
  {
   "cell_type": "code",
   "execution_count": 73,
   "id": "f8d12e00",
   "metadata": {},
   "outputs": [
    {
     "name": "stdout",
     "output_type": "stream",
     "text": [
      "['Microsoft Excel', 'Languages', 'UI/UX', 'graphics', 'french', 'spanish']\n"
     ]
    }
   ],
   "source": [
    "print(names_of_courses_in_ijan)"
   ]
  },
  {
   "cell_type": "code",
   "execution_count": 74,
   "id": "69ba9e05",
   "metadata": {},
   "outputs": [
    {
     "name": "stdout",
     "output_type": "stream",
     "text": [
      "1\n"
     ]
    }
   ],
   "source": [
    "print(names_of_courses_in_ijan.count('graphics'))"
   ]
  },
  {
   "cell_type": "code",
   "execution_count": 75,
   "id": "e0d3544c",
   "metadata": {},
   "outputs": [
    {
     "name": "stdout",
     "output_type": "stream",
     "text": [
      "1\n"
     ]
    }
   ],
   "source": [
    "print(names_of_courses_in_ijan.count('french'))"
   ]
  },
  {
   "cell_type": "markdown",
   "id": "650173c7",
   "metadata": {},
   "source": [
    "# Reverse"
   ]
  },
  {
   "cell_type": "code",
   "execution_count": 76,
   "id": "78b70b29",
   "metadata": {
    "scrolled": true
   },
   "outputs": [
    {
     "name": "stdout",
     "output_type": "stream",
     "text": [
      "['Windows', 'macOS', 'Linux']\n"
     ]
    }
   ],
   "source": [
    "# Operating System List\n",
    "systems = ['Windows', 'macOS', 'Linux']\n",
    "print(systems)"
   ]
  },
  {
   "cell_type": "code",
   "execution_count": 77,
   "id": "1db0984a",
   "metadata": {},
   "outputs": [
    {
     "name": "stdout",
     "output_type": "stream",
     "text": [
      "['oau', 'unilag', 'lasu', 'cu', 'futa']\n"
     ]
    }
   ],
   "source": [
    "inst = ['oau', 'unilag','lasu','cu','futa']\n",
    "print(inst)"
   ]
  },
  {
   "cell_type": "code",
   "execution_count": 78,
   "id": "1d3d6805",
   "metadata": {},
   "outputs": [
    {
     "name": "stdout",
     "output_type": "stream",
     "text": [
      "['futa', 'cu', 'lasu', 'unilag', 'oau']\n"
     ]
    }
   ],
   "source": [
    "inst.reverse()\n",
    "print(inst)"
   ]
  },
  {
   "cell_type": "code",
   "execution_count": 80,
   "id": "c601f5c8",
   "metadata": {},
   "outputs": [
    {
     "name": "stdout",
     "output_type": "stream",
     "text": [
      "['Windows', 'macOS', 'Linux']\n"
     ]
    }
   ],
   "source": [
    "print(systems)"
   ]
  },
  {
   "cell_type": "code",
   "execution_count": 81,
   "id": "6aed8ce8",
   "metadata": {},
   "outputs": [
    {
     "name": "stdout",
     "output_type": "stream",
     "text": [
      "['Linux', 'macOS', 'Windows']\n"
     ]
    }
   ],
   "source": [
    "# List Reverse\n",
    "systems.reverse()\n",
    "\n",
    "print(systems)"
   ]
  },
  {
   "cell_type": "markdown",
   "id": "05ef683d",
   "metadata": {},
   "source": [
    "# Tuple\n",
    "In Python, tuples are immutables. Meaning, you cannot change items of a tuple once it is assigned. There are only two tuple methods count() and index() that a tuple object can call."
   ]
  },
  {
   "cell_type": "markdown",
   "id": "64471c1a",
   "metadata": {},
   "source": [
    "# Python tuple method\n",
    " - Count\n",
    " - Index"
   ]
  },
  {
   "cell_type": "markdown",
   "id": "c59e85c3",
   "metadata": {},
   "source": [
    "# Count"
   ]
  },
  {
   "cell_type": "code",
   "execution_count": 82,
   "id": "477ca827",
   "metadata": {},
   "outputs": [
    {
     "name": "stdout",
     "output_type": "stream",
     "text": [
      "('Python', 'Python', 'Microsoft Excel', 'Language', 'Language', 'UI/UX', 'Python')\n"
     ]
    }
   ],
   "source": [
    "names_of_courses_in_ijan = ('Python','Python','Microsoft Excel', 'Language','Language','UI/UX','Python')\n",
    "print(names_of_courses_in_ijan)"
   ]
  },
  {
   "cell_type": "code",
   "execution_count": 83,
   "id": "3f506201",
   "metadata": {},
   "outputs": [
    {
     "name": "stdout",
     "output_type": "stream",
     "text": [
      "3\n"
     ]
    }
   ],
   "source": [
    "print(names_of_courses_in_ijan.count('Python'))"
   ]
  },
  {
   "cell_type": "code",
   "execution_count": 84,
   "id": "a87758a2",
   "metadata": {},
   "outputs": [
    {
     "name": "stdout",
     "output_type": "stream",
     "text": [
      "2\n"
     ]
    }
   ],
   "source": [
    "print(names_of_courses_in_ijan.count('Language'))"
   ]
  },
  {
   "cell_type": "markdown",
   "id": "8864feb6",
   "metadata": {},
   "source": [
    "# Index"
   ]
  },
  {
   "cell_type": "code",
   "execution_count": 85,
   "id": "2f1ba257",
   "metadata": {},
   "outputs": [
    {
     "name": "stdout",
     "output_type": "stream",
     "text": [
      "('Python', 'Python', 'Microsoft Excel', 'Language', 'Language', 'UI/UX', 'Python')\n"
     ]
    }
   ],
   "source": [
    "print(names_of_courses_in_ijan)"
   ]
  },
  {
   "cell_type": "code",
   "execution_count": 86,
   "id": "cd118cfe",
   "metadata": {},
   "outputs": [
    {
     "name": "stdout",
     "output_type": "stream",
     "text": [
      "2\n"
     ]
    }
   ],
   "source": [
    "print(names_of_courses_in_ijan.index('Microsoft Excel'))"
   ]
  },
  {
   "cell_type": "code",
   "execution_count": 87,
   "id": "216b6bce",
   "metadata": {},
   "outputs": [
    {
     "name": "stdout",
     "output_type": "stream",
     "text": [
      "5\n"
     ]
    }
   ],
   "source": [
    "print(names_of_courses_in_ijan.index('UI/UX'))"
   ]
  },
  {
   "cell_type": "code",
   "execution_count": 89,
   "id": "09194c68",
   "metadata": {},
   "outputs": [
    {
     "name": "stdout",
     "output_type": "stream",
     "text": [
      "0\n"
     ]
    }
   ],
   "source": [
    "print(names_of_courses_in_ijan.index('Python'))"
   ]
  },
  {
   "cell_type": "code",
   "execution_count": 88,
   "id": "3f260150",
   "metadata": {},
   "outputs": [
    {
     "ename": "TypeError",
     "evalue": "'tuple' object does not support item assignment",
     "output_type": "error",
     "traceback": [
      "\u001b[0;31m---------------------------------------------------------------------------\u001b[0m",
      "\u001b[0;31mTypeError\u001b[0m                                 Traceback (most recent call last)",
      "\u001b[0;32m/var/folders/2v/ccvhy2cn28vctd3kt9fmhtrm0000gn/T/ipykernel_7364/3481116181.py\u001b[0m in \u001b[0;36m<module>\u001b[0;34m\u001b[0m\n\u001b[0;32m----> 1\u001b[0;31m \u001b[0mnames_of_courses_in_ijan\u001b[0m\u001b[0;34m[\u001b[0m\u001b[0;36m0\u001b[0m\u001b[0;34m]\u001b[0m \u001b[0;34m=\u001b[0m \u001b[0;34m\"JavaScript\"\u001b[0m\u001b[0;34m\u001b[0m\u001b[0;34m\u001b[0m\u001b[0m\n\u001b[0m",
      "\u001b[0;31mTypeError\u001b[0m: 'tuple' object does not support item assignment"
     ]
    }
   ],
   "source": [
    "names_of_courses_in_ijan[0] = \"JavaScript\""
   ]
  },
  {
   "cell_type": "markdown",
   "id": "b1f04271",
   "metadata": {},
   "source": [
    "# Dictionary\n",
    "Python has a set of built-in methods that you can use on dictionaries and they are:\n",
    " - values\n",
    " - update\n",
    " - setdefault\n",
    " - popitem\n",
    " - pop\n",
    " - keys\n",
    " - items\n",
    " - get\n",
    " - fromkeys\n",
    " - copy\n",
    " - clear"
   ]
  },
  {
   "cell_type": "markdown",
   "id": "c359a8d1",
   "metadata": {},
   "source": [
    "# Values\n",
    "\n",
    "The values() method returns a view object. The view object contains the values of the dictionary, as a list.\n",
    "\n",
    "The view object will reflect any changes done to the dictionary"
   ]
  },
  {
   "cell_type": "code",
   "execution_count": 91,
   "id": "f9a1bf15",
   "metadata": {},
   "outputs": [
    {
     "name": "stdout",
     "output_type": "stream",
     "text": [
      "{'Name': 'Abayomi', 'Organization': 'IJAN', 'Position': 'Tutor', 'Gender': 'Male', 'Contact': '+2348106901310'}\n"
     ]
    }
   ],
   "source": [
    "person = {'Name':'Abayomi', 'Organization':'IJAN', 'Position':'Tutor','Gender':'Male','Contact': '+2348106901310'}\n",
    "print(person)"
   ]
  },
  {
   "cell_type": "code",
   "execution_count": 92,
   "id": "ddf4ff97",
   "metadata": {},
   "outputs": [
    {
     "data": {
      "text/plain": [
       "dict_keys(['Name', 'Organization', 'Position', 'Gender', 'Contact'])"
      ]
     },
     "execution_count": 92,
     "metadata": {},
     "output_type": "execute_result"
    }
   ],
   "source": [
    "person.keys()"
   ]
  },
  {
   "cell_type": "code",
   "execution_count": 93,
   "id": "bdcfd647",
   "metadata": {},
   "outputs": [
    {
     "data": {
      "text/plain": [
       "dict_values(['Abayomi', 'IJAN', 'Tutor', 'Male', '+2348106901310'])"
      ]
     },
     "execution_count": 93,
     "metadata": {},
     "output_type": "execute_result"
    }
   ],
   "source": [
    "person.values()"
   ]
  },
  {
   "cell_type": "code",
   "execution_count": 94,
   "id": "3dce30e6",
   "metadata": {
    "scrolled": true
   },
   "outputs": [],
   "source": [
    "person['Gender'] = 'Female'"
   ]
  },
  {
   "cell_type": "code",
   "execution_count": 95,
   "id": "a476fde0",
   "metadata": {},
   "outputs": [
    {
     "name": "stdout",
     "output_type": "stream",
     "text": [
      "{'Name': 'Abayomi', 'Organization': 'IJAN', 'Position': 'Tutor', 'Gender': 'Female', 'Contact': '+2348106901310'}\n"
     ]
    }
   ],
   "source": [
    "print(person)"
   ]
  },
  {
   "cell_type": "markdown",
   "id": "dbdac043",
   "metadata": {},
   "source": [
    "# Update\n",
    "The update() method inserts the specified items to the dictionary.\n",
    "\n",
    "The specified items can be a dictionary, or an iterable object with key value pairs."
   ]
  },
  {
   "cell_type": "code",
   "execution_count": 96,
   "id": "f9d71c43",
   "metadata": {},
   "outputs": [
    {
     "name": "stdout",
     "output_type": "stream",
     "text": [
      "{'Name': 'Abayomi', 'Organization': 'IJAN', 'Position': 'Tutor', 'Gender': 'Female', 'Contact': '+2348106901310'}\n"
     ]
    }
   ],
   "source": [
    "print(person)"
   ]
  },
  {
   "cell_type": "code",
   "execution_count": 97,
   "id": "2dbf3fe0",
   "metadata": {},
   "outputs": [],
   "source": [
    "person.update({'hobby':'Eating and Playing'})"
   ]
  },
  {
   "cell_type": "code",
   "execution_count": 98,
   "id": "8ed858f8",
   "metadata": {},
   "outputs": [
    {
     "name": "stdout",
     "output_type": "stream",
     "text": [
      "{'Name': 'Abayomi', 'Organization': 'IJAN', 'Position': 'Tutor', 'Gender': 'Female', 'Contact': '+2348106901310', 'hobby': 'Eating and Playing'}\n"
     ]
    }
   ],
   "source": [
    "print(person)"
   ]
  },
  {
   "cell_type": "markdown",
   "id": "edc0430e",
   "metadata": {},
   "source": [
    "# Setdefault\n",
    "The setdefault() method returns the value of the item with the specified key.\n",
    "\n",
    "If the key does not exist, insert the key, with the specified value, see example below\n",
    "\n",
    "## Syntax\n",
    "dictionary.setdefault(keyname, value)"
   ]
  },
  {
   "cell_type": "code",
   "execution_count": 99,
   "id": "1a1d1e03",
   "metadata": {},
   "outputs": [
    {
     "name": "stdout",
     "output_type": "stream",
     "text": [
      "{'Name': 'Abayomi', 'Organization': 'IJAN', 'Position': 'Tutor', 'Gender': 'Female', 'Contact': '+2348106901310', 'hobby': 'Eating and Playing'}\n"
     ]
    }
   ],
   "source": [
    "print(person)"
   ]
  },
  {
   "cell_type": "code",
   "execution_count": 100,
   "id": "910bce24",
   "metadata": {},
   "outputs": [
    {
     "name": "stdout",
     "output_type": "stream",
     "text": [
      "Data Scientist\n"
     ]
    }
   ],
   "source": [
    "a = person.setdefault('Occupation','Data Scientist')\n",
    "print(a)"
   ]
  },
  {
   "cell_type": "code",
   "execution_count": 101,
   "id": "f37063f4",
   "metadata": {},
   "outputs": [
    {
     "name": "stdout",
     "output_type": "stream",
     "text": [
      "{'Name': 'Abayomi', 'Organization': 'IJAN', 'Position': 'Tutor', 'Gender': 'Female', 'Contact': '+2348106901310', 'hobby': 'Eating and Playing', 'Occupation': 'Data Scientist'}\n"
     ]
    }
   ],
   "source": [
    "print(person)"
   ]
  },
  {
   "cell_type": "markdown",
   "id": "3f91b7cf",
   "metadata": {},
   "source": [
    "# POPITEM\n",
    "The popitem() method removes the item that was last inserted into the dictionary. In versions before 3.7, the popitem() method removes a random item.\n",
    "\n",
    "The removed item is the return value of the popitem() method, as a tuple."
   ]
  },
  {
   "cell_type": "code",
   "execution_count": 102,
   "id": "baf298bf",
   "metadata": {},
   "outputs": [
    {
     "name": "stdout",
     "output_type": "stream",
     "text": [
      "{'Name': 'Abayomi', 'Organization': 'IJAN', 'Position': 'Tutor', 'Gender': 'Female', 'Contact': '+2348106901310', 'hobby': 'Eating and Playing', 'Occupation': 'Data Scientist'}\n"
     ]
    }
   ],
   "source": [
    "print(person)"
   ]
  },
  {
   "cell_type": "code",
   "execution_count": 103,
   "id": "655058a2",
   "metadata": {},
   "outputs": [],
   "source": [
    "p = person.popitem()"
   ]
  },
  {
   "cell_type": "code",
   "execution_count": 104,
   "id": "48601222",
   "metadata": {},
   "outputs": [
    {
     "name": "stdout",
     "output_type": "stream",
     "text": [
      "('Occupation', 'Data Scientist')\n"
     ]
    }
   ],
   "source": [
    "print(p)"
   ]
  },
  {
   "cell_type": "code",
   "execution_count": 105,
   "id": "190b5e4e",
   "metadata": {},
   "outputs": [
    {
     "name": "stdout",
     "output_type": "stream",
     "text": [
      "{'Name': 'Abayomi', 'Organization': 'IJAN', 'Position': 'Tutor', 'Gender': 'Female', 'Contact': '+2348106901310', 'hobby': 'Eating and Playing'}\n"
     ]
    }
   ],
   "source": [
    "print(person)"
   ]
  },
  {
   "cell_type": "markdown",
   "id": "31f717ce",
   "metadata": {},
   "source": [
    "# POP\n",
    "The pop() method removes the specified item from the dictionary.\n",
    "\n",
    "The value of the removed item is the return value of the pop() method.\n",
    "\n",
    "## Syntax\n",
    "dictionary.pop(keyname, defaultvalue)"
   ]
  },
  {
   "cell_type": "code",
   "execution_count": 106,
   "id": "0e99f7c5",
   "metadata": {},
   "outputs": [
    {
     "name": "stdout",
     "output_type": "stream",
     "text": [
      "{'Name': 'Abayomi', 'Organization': 'IJAN', 'Position': 'Tutor', 'Gender': 'Female', 'Contact': '+2348106901310', 'hobby': 'Eating and Playing'}\n"
     ]
    }
   ],
   "source": [
    "print(person)"
   ]
  },
  {
   "cell_type": "code",
   "execution_count": 107,
   "id": "3d91e520",
   "metadata": {},
   "outputs": [
    {
     "name": "stdout",
     "output_type": "stream",
     "text": [
      "Female\n"
     ]
    }
   ],
   "source": [
    "po = person.pop(\"Gender\")\n",
    "print(po)"
   ]
  },
  {
   "cell_type": "code",
   "execution_count": 108,
   "id": "ce4395f0",
   "metadata": {},
   "outputs": [
    {
     "name": "stdout",
     "output_type": "stream",
     "text": [
      "{'Name': 'Abayomi', 'Organization': 'IJAN', 'Position': 'Tutor', 'Contact': '+2348106901310', 'hobby': 'Eating and Playing'}\n"
     ]
    }
   ],
   "source": [
    "print(person)"
   ]
  },
  {
   "cell_type": "markdown",
   "id": "f1a7f34b",
   "metadata": {},
   "source": [
    "# Keys\n",
    "\n",
    "The keys() method returns a view object. The view object contains the keys of the dictionary, as a list.\n",
    "\n",
    "The view object will reflect any changes done to the dictionary.\n",
    "\n",
    "## Syntax\n",
    "dictionary.keys()"
   ]
  },
  {
   "cell_type": "code",
   "execution_count": 109,
   "id": "3b7c7975",
   "metadata": {},
   "outputs": [
    {
     "name": "stdout",
     "output_type": "stream",
     "text": [
      "{'Name': 'Abayomi', 'Organization': 'IJAN', 'Position': 'Tutor', 'Contact': '+2348106901310', 'hobby': 'Eating and Playing'}\n"
     ]
    }
   ],
   "source": [
    "print(person)"
   ]
  },
  {
   "cell_type": "code",
   "execution_count": 110,
   "id": "2adf5770",
   "metadata": {},
   "outputs": [
    {
     "name": "stdout",
     "output_type": "stream",
     "text": [
      "dict_keys(['Name', 'Organization', 'Position', 'Contact', 'hobby'])\n"
     ]
    }
   ],
   "source": [
    "k = person.keys()\n",
    "print(k)"
   ]
  },
  {
   "cell_type": "markdown",
   "id": "a9df977d",
   "metadata": {},
   "source": [
    "# Items \n",
    "The items() method returns a view object. The view object contains the key-value pairs of the dictionary, as tuples in a list.\n",
    "\n",
    "The view object will reflect any changes done to the dictionary.\n",
    "## Syntax\n",
    "dictionary.items()"
   ]
  },
  {
   "cell_type": "code",
   "execution_count": 111,
   "id": "ff487f8e",
   "metadata": {},
   "outputs": [
    {
     "name": "stdout",
     "output_type": "stream",
     "text": [
      "{'Name': 'Abayomi', 'Organization': 'IJAN', 'Position': 'Tutor', 'Contact': '+2348106901310', 'hobby': 'Eating and Playing'}\n"
     ]
    }
   ],
   "source": [
    "print(person)"
   ]
  },
  {
   "cell_type": "code",
   "execution_count": 112,
   "id": "dd1c6da3",
   "metadata": {},
   "outputs": [],
   "source": [
    "i = person.items()"
   ]
  },
  {
   "cell_type": "code",
   "execution_count": 113,
   "id": "e7d3ca5c",
   "metadata": {},
   "outputs": [
    {
     "name": "stdout",
     "output_type": "stream",
     "text": [
      "dict_items([('Name', 'Abayomi'), ('Organization', 'IJAN'), ('Position', 'Tutor'), ('Contact', '+2348106901310'), ('hobby', 'Eating and Playing')])\n"
     ]
    }
   ],
   "source": [
    "print(i)"
   ]
  },
  {
   "cell_type": "markdown",
   "id": "3c2fcb82",
   "metadata": {},
   "source": [
    "# Get\n",
    "The get() method returns the value of the item with the specified key.\n",
    "\n",
    "## Syntax\n",
    "dictionary.get(keyname, value)"
   ]
  },
  {
   "cell_type": "code",
   "execution_count": null,
   "id": "7c467d5f",
   "metadata": {},
   "outputs": [],
   "source": [
    "print(person)"
   ]
  },
  {
   "cell_type": "code",
   "execution_count": 114,
   "id": "491f2654",
   "metadata": {},
   "outputs": [
    {
     "name": "stdout",
     "output_type": "stream",
     "text": [
      "IJAN\n"
     ]
    }
   ],
   "source": [
    "g = person.get('Organization')\n",
    "print(g)"
   ]
  },
  {
   "cell_type": "code",
   "execution_count": 115,
   "id": "8a74c1c7",
   "metadata": {},
   "outputs": [
    {
     "name": "stdout",
     "output_type": "stream",
     "text": [
      "Tutor\n"
     ]
    }
   ],
   "source": [
    "print(person.get('Position'))"
   ]
  },
  {
   "cell_type": "code",
   "execution_count": 116,
   "id": "f73c3886",
   "metadata": {},
   "outputs": [
    {
     "name": "stdout",
     "output_type": "stream",
     "text": [
      "+2348106901310\n"
     ]
    }
   ],
   "source": [
    "print(person.get(\"Contact\"))"
   ]
  },
  {
   "cell_type": "markdown",
   "id": "6674258b",
   "metadata": {},
   "source": [
    "# Fromkeys\n",
    "\n",
    "The fromkeys() method returns a dictionary with the specified keys and the specified value.\n",
    "\n",
    "## Syntax\n",
    "dict.fromkeys(keys, value)"
   ]
  },
  {
   "cell_type": "code",
   "execution_count": 117,
   "id": "466039c2",
   "metadata": {},
   "outputs": [
    {
     "name": "stdout",
     "output_type": "stream",
     "text": [
      "{'Name': 'Abayomi', 'Organization': 'IJAN', 'Position': 'Tutor', 'Contact': '+2348106901310', 'hobby': 'Eating and Playing'}\n"
     ]
    }
   ],
   "source": [
    "print(person)"
   ]
  },
  {
   "cell_type": "code",
   "execution_count": 118,
   "id": "0e6acc97",
   "metadata": {},
   "outputs": [
    {
     "name": "stdout",
     "output_type": "stream",
     "text": [
      "{'N': 'Abayomi', 'a': 'Abayomi', 'm': 'Abayomi', 'e': 'Abayomi'}\n"
     ]
    }
   ],
   "source": [
    "print(person.fromkeys('Name','Abayomi'))"
   ]
  },
  {
   "cell_type": "markdown",
   "id": "1b8df090",
   "metadata": {},
   "source": [
    "# Copy\n",
    "The copy() method returns a copy of the specified dictionary.\n",
    "\n",
    "## Syntax\n",
    "dictionary.copy()"
   ]
  },
  {
   "cell_type": "code",
   "execution_count": 119,
   "id": "a354c3f5",
   "metadata": {},
   "outputs": [
    {
     "name": "stdout",
     "output_type": "stream",
     "text": [
      "{'Name': 'Abayomi', 'Organization': 'IJAN', 'Position': 'Tutor', 'Contact': '+2348106901310', 'hobby': 'Eating and Playing'}\n"
     ]
    }
   ],
   "source": [
    "print(person)"
   ]
  },
  {
   "cell_type": "code",
   "execution_count": 120,
   "id": "e20e969a",
   "metadata": {},
   "outputs": [],
   "source": [
    "c = person.copy()"
   ]
  },
  {
   "cell_type": "code",
   "execution_count": 121,
   "id": "639d3ead",
   "metadata": {},
   "outputs": [
    {
     "name": "stdout",
     "output_type": "stream",
     "text": [
      "{'Name': 'Abayomi', 'Organization': 'IJAN', 'Position': 'Tutor', 'Contact': '+2348106901310', 'hobby': 'Eating and Playing'}\n"
     ]
    }
   ],
   "source": [
    "print(c)"
   ]
  },
  {
   "cell_type": "code",
   "execution_count": 122,
   "id": "64cb2d0f",
   "metadata": {},
   "outputs": [
    {
     "name": "stdout",
     "output_type": "stream",
     "text": [
      "{'Name': 'Abayomi', 'Organization': 'IJAN', 'Position': 'Tutor', 'Contact': '+2348106901310', 'hobby': 'Eating and Playing'}\n"
     ]
    }
   ],
   "source": [
    "print(person)"
   ]
  },
  {
   "cell_type": "markdown",
   "id": "cffa8d94",
   "metadata": {},
   "source": [
    "# Clear\n",
    "The clear() method removes all the elements from a dictionary.\n",
    "\n",
    "## Syntax\n",
    "dictionary.clear()"
   ]
  },
  {
   "cell_type": "code",
   "execution_count": 123,
   "id": "133c3eb5",
   "metadata": {},
   "outputs": [
    {
     "name": "stdout",
     "output_type": "stream",
     "text": [
      "{'Name': 'Abayomi', 'Organization': 'IJAN', 'Position': 'Tutor', 'Contact': '+2348106901310', 'hobby': 'Eating and Playing'}\n"
     ]
    }
   ],
   "source": [
    "print(c)"
   ]
  },
  {
   "cell_type": "code",
   "execution_count": 124,
   "id": "dbdb9348",
   "metadata": {},
   "outputs": [],
   "source": [
    "cle = c.clear()"
   ]
  },
  {
   "cell_type": "code",
   "execution_count": 125,
   "id": "430b4ef0",
   "metadata": {},
   "outputs": [
    {
     "name": "stdout",
     "output_type": "stream",
     "text": [
      "None\n"
     ]
    }
   ],
   "source": [
    "print(cle)"
   ]
  },
  {
   "cell_type": "code",
   "execution_count": 126,
   "id": "cccc692a",
   "metadata": {},
   "outputs": [
    {
     "name": "stdout",
     "output_type": "stream",
     "text": [
      "<class 'NoneType'>\n"
     ]
    }
   ],
   "source": [
    "print(type(cle))"
   ]
  },
  {
   "cell_type": "code",
   "execution_count": null,
   "id": "3e8c6942",
   "metadata": {},
   "outputs": [],
   "source": [
    "print(person)"
   ]
  },
  {
   "cell_type": "markdown",
   "id": "d98a2c61",
   "metadata": {},
   "source": [
    "## This is the document for this class"
   ]
  },
  {
   "cell_type": "code",
   "execution_count": null,
   "id": "fe69c70b",
   "metadata": {},
   "outputs": [],
   "source": []
  }
 ],
 "metadata": {
  "kernelspec": {
   "display_name": "Python 3 (ipykernel)",
   "language": "python",
   "name": "python3"
  },
  "language_info": {
   "codemirror_mode": {
    "name": "ipython",
    "version": 3
   },
   "file_extension": ".py",
   "mimetype": "text/x-python",
   "name": "python",
   "nbconvert_exporter": "python",
   "pygments_lexer": "ipython3",
   "version": "3.9.13"
  }
 },
 "nbformat": 4,
 "nbformat_minor": 5
}
