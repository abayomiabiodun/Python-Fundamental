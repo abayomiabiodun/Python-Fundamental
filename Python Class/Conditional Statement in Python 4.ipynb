{
 "cells": [
  {
   "cell_type": "markdown",
   "id": "ed6cfff6",
   "metadata": {},
   "source": [
    "# Python Conditions and If statements\n",
    "\n",
    "Python supports the usual logical conditions from mathematics:\n",
    "\n",
    " - Equals: `a == b`\n",
    " - Not Equals: `a != b`\n",
    " - Less than: `a < b`\n",
    " - Less than or equal to: `a <= b`\n",
    " - Greater than: `a > b`\n",
    " - Greater than or equal to: `a >= b`\n",
    " \n",
    "These conditions can be used in several ways, most commonly in \"if statements\" and loops.\n",
    "\n",
    "An \"if statement\" is written by using the `if` keyword and other conditional statement are `elif` and `else`"
   ]
  },
  {
   "cell_type": "markdown",
   "id": "450e92d2",
   "metadata": {},
   "source": [
    "## Example "
   ]
  },
  {
   "cell_type": "markdown",
   "id": "50f0fcd2",
   "metadata": {},
   "source": [
    "## if \n",
    "## elif\n",
    "## else"
   ]
  },
  {
   "cell_type": "code",
   "execution_count": 2,
   "id": "4c43f282",
   "metadata": {},
   "outputs": [
    {
     "name": "stdout",
     "output_type": "stream",
     "text": [
      "Enter the name of your school: ijan\n",
      "ijan : is the name of your school\n"
     ]
    }
   ],
   "source": [
    "school = input(\"Enter the name of your school: \")\n",
    "\n",
    "if school == \"ijan\":\n",
    "    print(school, \": is the name of your school\")\n",
    "else:\n",
    "    print(\"i'm not aware of the name of your school\")"
   ]
  },
  {
   "cell_type": "code",
   "execution_count": 4,
   "id": "d85d3224",
   "metadata": {},
   "outputs": [
    {
     "name": "stdout",
     "output_type": "stream",
     "text": [
      "Enter your username: oyindamola\n",
      "Enter your password: 45666\n",
      "Incorrect username and password, click on forget passord\n"
     ]
    }
   ],
   "source": [
    "## Sign up details \n",
    "signed_up_user_name = \"oyindamola\"\n",
    "signed_up_pass_word = 12347\n",
    "\n",
    "##Login details\n",
    "user_name = input(\"Enter your username: \")\n",
    "passord = int(input(\"Enter your password: \"))\n",
    "\n",
    "if user_name == signed_up_user_name and passord == signed_up_pass_word:\n",
    "    print(\"You're Login successfully\")\n",
    "else:\n",
    "    print(\"Incorrect username and password, click on forget passord\")"
   ]
  },
  {
   "cell_type": "code",
   "execution_count": 7,
   "id": "e81eba3a",
   "metadata": {},
   "outputs": [
    {
     "name": "stdout",
     "output_type": "stream",
     "text": [
      "Guess a number: 20\n",
      "You guess right\n"
     ]
    }
   ],
   "source": [
    "original_number = 20\n",
    "\n",
    "guess = int(input(\"Guess a number: \"))\n",
    "\n",
    "if guess < original_number:  \n",
    "    print(\"Your guess is less than the original number\")\n",
    "elif guess > original_number:\n",
    "    print(\"Your guess is greater than the original number\")\n",
    "elif guess == original_number:\n",
    "    print(\"You guess right\")\n",
    "else:\n",
    "    print(\"ohhh sorry, you really tried but try again\")"
   ]
  },
  {
   "cell_type": "code",
   "execution_count": 11,
   "id": "af4d7125",
   "metadata": {},
   "outputs": [
    {
     "name": "stdout",
     "output_type": "stream",
     "text": [
      "Enter any traffic light colour of your choice: white\n",
      "I'm not familiar with the colour you gave\n"
     ]
    }
   ],
   "source": [
    "colour = input(\"Enter any traffic light colour of your choice: \")\n",
    "\n",
    "if colour == 'yellow':\n",
    "    print(\"The vehicle should get set\")\n",
    "elif colour == 'green':\n",
    "    print(\"The vehicle should move\")\n",
    "elif colour == 'red':\n",
    "    print(\"The vehicle should stop\")\n",
    "else:\n",
    "    print(\"I'm not familiar with the colour you gave\")"
   ]
  },
  {
   "cell_type": "code",
   "execution_count": 16,
   "id": "c1863c77",
   "metadata": {},
   "outputs": [
    {
     "name": "stdout",
     "output_type": "stream",
     "text": [
      "Enter your name: Ayomide\n",
      "Ayomide  is the assisstance class representative of ijan\n"
     ]
    }
   ],
   "source": [
    "name = input(\"Enter your name: \")\n",
    "\n",
    "if name == \"Abayomi\":\n",
    "    print(name, \" is the tutor for python Ijan class\")\n",
    "elif name == \"Esther\":\n",
    "    print(name, \" is the class representative of Ijan and she had birthday on Tuesday\")\n",
    "elif name == \"Ayomide\":\n",
    "    print(name, \" is the assisstance class representative of ijan\")\n",
    "else:\n",
    "    print(name, ' is not python class tutor')"
   ]
  },
  {
   "cell_type": "code",
   "execution_count": 18,
   "id": "63cb5cb3",
   "metadata": {},
   "outputs": [
    {
     "name": "stdout",
     "output_type": "stream",
     "text": [
      "Enter your name: Busayo\n",
      "I don't think this name is a christian name\n"
     ]
    }
   ],
   "source": [
    "christian_name = 'victor'\n",
    "\n",
    "name = input(\"Enter your name: \")\n",
    "if name == christian_name:\n",
    "    print(name, \" is a christian name\")\n",
    "else:\n",
    "    print(\"I don't think this name is a christian name\")"
   ]
  },
  {
   "cell_type": "code",
   "execution_count": 20,
   "id": "3692fdf6",
   "metadata": {},
   "outputs": [
    {
     "name": "stdout",
     "output_type": "stream",
     "text": [
      "enter any alphabet: b\n",
      "b : the alphabet is a consonant sound \n"
     ]
    }
   ],
   "source": [
    "alphabet = input(\"enter any alphabet: \")\n",
    "\n",
    "if alphabet == 'a':\n",
    "    print(alphabet, \": The alphabet is a vowel sound\")\n",
    "elif alphabet == 'e':\n",
    "    print(alphabet, ': The alphabet is a vowel sound')\n",
    "elif alphabet == 'i':\n",
    "    print(alphabet, ': The alphabet is a vowel sound')\n",
    "elif alphabet == 'o':\n",
    "    print(alphabet, ': The alphabet is a vowel sound')\n",
    "elif alphabet == 'u':\n",
    "    print(alphabet, ': The alphabet is a vowel sound')\n",
    "else:\n",
    "    print(alphabet, \": the alphabet is a consonant sound \")"
   ]
  },
  {
   "cell_type": "code",
   "execution_count": null,
   "id": "e0770ec6",
   "metadata": {},
   "outputs": [],
   "source": [
    "vowel = 'e'\n",
    "alphabet = input(\"enter any alphabet: \")\n",
    "if vowel == alphabet:\n",
    "    print(\"The alphabet is a vowel sound\")\n",
    "else:\n",
    "    print(\"The alphabet is a consonant sound \")"
   ]
  },
  {
   "cell_type": "code",
   "execution_count": 22,
   "id": "f923c46e",
   "metadata": {},
   "outputs": [
    {
     "name": "stdout",
     "output_type": "stream",
     "text": [
      "Enter any combination of your choice: economics\n",
      "economics  is a wrong combination\n"
     ]
    }
   ],
   "source": [
    "combination = input(\"Enter any combination of your choice: \")\n",
    "\n",
    "if combination == \"physics\":\n",
    "    print(combination, \" is a science combination\")\n",
    "elif combination == 'chemistry':\n",
    "    print(combination, \" is a science combination\")\n",
    "elif combination == 'biology':\n",
    "    print(combination, ' is a science combination')\n",
    "elif combination == 'maths':\n",
    "    print(combination, \" is a science combination\")\n",
    "else:\n",
    "    print(combination, ' is a wrong combination')"
   ]
  },
  {
   "cell_type": "code",
   "execution_count": null,
   "id": "5ab5ffab",
   "metadata": {},
   "outputs": [],
   "source": []
  }
 ],
 "metadata": {
  "kernelspec": {
   "display_name": "Python 3 (ipykernel)",
   "language": "python",
   "name": "python3"
  },
  "language_info": {
   "codemirror_mode": {
    "name": "ipython",
    "version": 3
   },
   "file_extension": ".py",
   "mimetype": "text/x-python",
   "name": "python",
   "nbconvert_exporter": "python",
   "pygments_lexer": "ipython3",
   "version": "3.9.13"
  }
 },
 "nbformat": 4,
 "nbformat_minor": 5
}
