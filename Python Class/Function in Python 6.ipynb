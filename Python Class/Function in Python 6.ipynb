{
 "cells": [
  {
   "cell_type": "markdown",
   "id": "a4a9a06a",
   "metadata": {},
   "source": [
    "# Function in Python"
   ]
  },
  {
   "cell_type": "markdown",
   "id": "091b92d2",
   "metadata": {},
   "source": [
    "A function is a block of code which only runs when it is called.\n",
    "\n",
    "You can pass data, known as parameters, into a function.\n",
    "\n",
    "A function can return data as a result."
   ]
  },
  {
   "cell_type": "markdown",
   "id": "14dd6d91",
   "metadata": {},
   "source": [
    "### Examples"
   ]
  },
  {
   "cell_type": "code",
   "execution_count": 1,
   "id": "9af6e2a0",
   "metadata": {},
   "outputs": [
    {
     "name": "stdout",
     "output_type": "stream",
     "text": [
      "hello world\n"
     ]
    }
   ],
   "source": [
    "print(\"hello world\")"
   ]
  },
  {
   "cell_type": "markdown",
   "id": "d7002851",
   "metadata": {},
   "source": [
    "### Calling a Function\n",
    "To call a function, use the function name followed by parenthesis:"
   ]
  },
  {
   "cell_type": "code",
   "execution_count": 2,
   "id": "a4e7bb60",
   "metadata": {
    "scrolled": true
   },
   "outputs": [
    {
     "data": {
      "text/plain": [
       "'Hello from a function'"
      ]
     },
     "execution_count": 2,
     "metadata": {},
     "output_type": "execute_result"
    }
   ],
   "source": [
    "def my_function():\n",
    "    return(\"Hello from a function\")\n",
    "\n",
    "my_function()"
   ]
  },
  {
   "cell_type": "markdown",
   "id": "220f03a1",
   "metadata": {},
   "source": [
    "### Arguments\n",
    "##### Information can be passed into functions as arguments.\n",
    "\n",
    "Arguments are specified after the function name, inside the parentheses. You can add as many arguments as you want, just separate them with a comma.\n",
    "\n",
    "The following example has a function with one argument (fname). When the function is called, we pass along a first name, which is used inside the function to print the full name:"
   ]
  },
  {
   "cell_type": "code",
   "execution_count": 4,
   "id": "63da3ddd",
   "metadata": {
    "scrolled": true
   },
   "outputs": [
    {
     "data": {
      "text/plain": [
       "6"
      ]
     },
     "execution_count": 4,
     "metadata": {},
     "output_type": "execute_result"
    }
   ],
   "source": [
    "def sum_of_three_numbers(num1, num2, num3):\n",
    "    total = num1 + num2 + num3\n",
    "    return total\n",
    "\n",
    "sum_of_three_numbers(2,2,2)"
   ]
  },
  {
   "cell_type": "code",
   "execution_count": 5,
   "id": "8ae11f8a",
   "metadata": {
    "scrolled": true
   },
   "outputs": [
    {
     "name": "stdout",
     "output_type": "stream",
     "text": [
      "Alexander, Hello and how are you? \n",
      "Emmanuel, Hello and how are you? \n",
      "Oyindamola, Hello and how are you? \n"
     ]
    }
   ],
   "source": [
    "def greet_users(fname):\n",
    "    return(fname + \", Hello and how are you? \")\n",
    "\n",
    "\n",
    "print(greet_users(\"Alexander\"))\n",
    "print(greet_users(\"Emmanuel\"))\n",
    "print(greet_users(\"Oyindamola\"))"
   ]
  },
  {
   "cell_type": "code",
   "execution_count": 8,
   "id": "7a21dda1",
   "metadata": {
    "scrolled": true
   },
   "outputs": [
    {
     "name": "stdout",
     "output_type": "stream",
     "text": [
      "Akinsulire Oyindamola\n"
     ]
    }
   ],
   "source": [
    "def users_details(fname, lname):\n",
    "    return(fname +\" \"+ lname)\n",
    "\n",
    "\n",
    "print(users_details(\"Akinsulire\", \"Oyindamola\"))"
   ]
  },
  {
   "cell_type": "markdown",
   "id": "86a62e3e",
   "metadata": {},
   "source": [
    "### Keyword Arguments\n",
    "You can also send arguments with the key = value syntax.\n",
    "\n",
    "This way the order of the arguments does not matter."
   ]
  },
  {
   "cell_type": "code",
   "execution_count": 9,
   "id": "6ab6c8f6",
   "metadata": {},
   "outputs": [
    {
     "data": {
      "text/plain": [
       "'The youngest child is Linus'"
      ]
     },
     "execution_count": 9,
     "metadata": {},
     "output_type": "execute_result"
    }
   ],
   "source": [
    "def siblings(child3, child2, child1):\n",
    "    return (\"The youngest child is \" + child3)\n",
    "\n",
    "siblings(child1 = \"Emil\", child2 = \"Tobias\", child3 = \"Linus\")"
   ]
  },
  {
   "cell_type": "code",
   "execution_count": 10,
   "id": "808e0b5a",
   "metadata": {},
   "outputs": [
    {
     "name": "stdout",
     "output_type": "stream",
     "text": [
      "I am from Sweden\n",
      "I am from India\n",
      "I am from Norway\n",
      "I am from Brazil\n"
     ]
    }
   ],
   "source": [
    "def country(country = \"Norway\"):\n",
    "    return (\"I am from \" + country)\n",
    "\n",
    "print(country(\"Sweden\"))\n",
    "print(country(\"India\"))\n",
    "print(country())\n",
    "print(country(\"Brazil\"))"
   ]
  },
  {
   "cell_type": "code",
   "execution_count": 11,
   "id": "1fd3cf5b",
   "metadata": {
    "scrolled": true
   },
   "outputs": [
    {
     "name": "stdout",
     "output_type": "stream",
     "text": [
      "The vehicle can move\n",
      "The vehicle should get set\n",
      "The vehicle should stop\n",
      "I dont know the colour\n"
     ]
    }
   ],
   "source": [
    "def traffic_light(colour):\n",
    "    if colour ==\"green\":\n",
    "        return \"The vehicle can move\"\n",
    "    elif colour == \"yellow\":\n",
    "        return \"The vehicle should get set\"\n",
    "    elif colour == \"red\":\n",
    "        return \"The vehicle should stop\"\n",
    "    else:\n",
    "        return \"I dont know the colour\"\n",
    "    \n",
    "    \n",
    "print(traffic_light(\"green\"))\n",
    "print(traffic_light(\"yellow\"))\n",
    "print(traffic_light(\"red\"))\n",
    "print(traffic_light(\"black\"))"
   ]
  },
  {
   "cell_type": "code",
   "execution_count": 13,
   "id": "cfecb3e1",
   "metadata": {},
   "outputs": [
    {
     "name": "stdout",
     "output_type": "stream",
     "text": [
      "The vehicle should get set\n"
     ]
    }
   ],
   "source": [
    "def traffic_light(colour):\n",
    "    if colour ==\"green\":\n",
    "        return \"The vehicle can move\"\n",
    "    elif colour == \"yellow\":\n",
    "        return \"The vehicle should get set\"\n",
    "    elif colour == \"red\":\n",
    "        return \"The vehicle should stop\"\n",
    "    else:\n",
    "        return \"I dont know the colour\"\n",
    "    \n",
    "    \n",
    "print(traffic_light(\"yellow\"))"
   ]
  },
  {
   "cell_type": "code",
   "execution_count": 16,
   "id": "d6eb8942",
   "metadata": {},
   "outputs": [
    {
     "name": "stdout",
     "output_type": "stream",
     "text": [
      "Num3 is greater\n"
     ]
    }
   ],
   "source": [
    "def greater_number(num1, num2, num3):\n",
    "    if num1 > num2 and num1 > num3:\n",
    "        return \"Num1 is greater\"\n",
    "    elif num2 > num1 and num2 > num3:\n",
    "        return \"Num2 is greater\"\n",
    "    elif num3 > num1 and num3 > num2:\n",
    "        return \"Num3 is greater\"\n",
    "    else:\n",
    "        print(\"Num3 is greater than num2\")\n",
    "        \n",
    "print(greater_number(30,100,900))"
   ]
  },
  {
   "cell_type": "code",
   "execution_count": null,
   "id": "12d277c6",
   "metadata": {},
   "outputs": [],
   "source": [
    "The_first_age = \"Emi\"\n",
    "The_second_age = \"Femi\"\n",
    "The_third_age = 'Flourish'"
   ]
  },
  {
   "cell_type": "code",
   "execution_count": 19,
   "id": "e20f6a1d",
   "metadata": {},
   "outputs": [
    {
     "name": "stdout",
     "output_type": "stream",
     "text": [
      "Flourish's older than Femi and Emi\n"
     ]
    }
   ],
   "source": [
    "def age_comparison(age1, age2, age3):\n",
    "    if age1 > age2 and age1 > age3:\n",
    "        return \"Emi's older than femi and Flourish\"\n",
    "    elif age2 > age1 and age2 > age3:\n",
    "        return \"Femi's older than Emi and Flourish\"\n",
    "    else:\n",
    "        return \"Flourish's older than Femi and Emi\"\n",
    "    \n",
    "print(age_comparison(33,50,62))"
   ]
  },
  {
   "cell_type": "markdown",
   "id": "0e0c8411",
   "metadata": {},
   "source": [
    "## Assignment\n",
    "Use all the condtional statement learnt in class and loop in your own function and you can also create your own conditional statement and loop in any function you write "
   ]
  },
  {
   "cell_type": "code",
   "execution_count": 1,
   "id": "dc77bdc8",
   "metadata": {},
   "outputs": [],
   "source": [
    "## Write a function to get the sum of three numbers"
   ]
  },
  {
   "cell_type": "code",
   "execution_count": 2,
   "id": "7ee15955",
   "metadata": {},
   "outputs": [
    {
     "name": "stdout",
     "output_type": "stream",
     "text": [
      "222\n"
     ]
    }
   ],
   "source": [
    "number1 = 43\n",
    "number2 = 89\n",
    "number3 = 90\n",
    "\n",
    "total = number1 + number2 + number3\n",
    "print(total)"
   ]
  },
  {
   "cell_type": "code",
   "execution_count": 5,
   "id": "f22acdee",
   "metadata": {},
   "outputs": [
    {
     "name": "stdout",
     "output_type": "stream",
     "text": [
      "222\n"
     ]
    }
   ],
   "source": [
    "def sum_of_three_numbers(num1,num2,num3):\n",
    "    total = num1 + num2 + num3\n",
    "    return total\n",
    "\n",
    "print(sum_of_three_numbers(43,89,90))"
   ]
  },
  {
   "cell_type": "code",
   "execution_count": 6,
   "id": "829a59b7",
   "metadata": {},
   "outputs": [
    {
     "name": "stdout",
     "output_type": "stream",
     "text": [
      "267\n"
     ]
    }
   ],
   "source": [
    "print(sum_of_three_numbers(78,89,100))"
   ]
  },
  {
   "cell_type": "code",
   "execution_count": 7,
   "id": "f89ac36a",
   "metadata": {},
   "outputs": [
    {
     "name": "stdout",
     "output_type": "stream",
     "text": [
      "16\n"
     ]
    }
   ],
   "source": [
    "def multi(num1, num2):\n",
    "    m = num1 * num2\n",
    "    return m\n",
    "\n",
    "print(multi(4,4))"
   ]
  },
  {
   "cell_type": "code",
   "execution_count": null,
   "id": "c511bd5c",
   "metadata": {},
   "outputs": [],
   "source": []
  }
 ],
 "metadata": {
  "kernelspec": {
   "display_name": "Python 3 (ipykernel)",
   "language": "python",
   "name": "python3"
  },
  "language_info": {
   "codemirror_mode": {
    "name": "ipython",
    "version": 3
   },
   "file_extension": ".py",
   "mimetype": "text/x-python",
   "name": "python",
   "nbconvert_exporter": "python",
   "pygments_lexer": "ipython3",
   "version": "3.9.13"
  }
 },
 "nbformat": 4,
 "nbformat_minor": 5
}
