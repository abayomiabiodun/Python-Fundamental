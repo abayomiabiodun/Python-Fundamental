{
 "cells": [
  {
   "cell_type": "markdown",
   "id": "0182626d",
   "metadata": {},
   "source": [
    "# What is programming ?"
   ]
  },
  {
   "cell_type": "markdown",
   "id": "c297786c",
   "metadata": {},
   "source": [
    "Programming is a way to “instruct the computer to perform various tasks”"
   ]
  },
  {
   "cell_type": "markdown",
   "id": "d599f680",
   "metadata": {},
   "source": [
    "# What is python programming?"
   ]
  },
  {
   "cell_type": "markdown",
   "id": "e0a4be3f",
   "metadata": {},
   "source": [
    "Python is a high-level, general-purpose programming language. Its design philosophy emphasizes code readability with the use of significant indentation. Python is dynamically-typed and garbage-collected. It supports multiple programming paradigms, including structured, object-oriented and functional programming by <span style=\"color:red\"> Wikipedia</span>"
   ]
  },
  {
   "cell_type": "markdown",
   "id": "c3f1f5b1",
   "metadata": {},
   "source": [
    "# Application of Python Programming Language"
   ]
  },
  {
   "cell_type": "markdown",
   "id": "be820519",
   "metadata": {},
   "source": [
    " 1. Web Development\n",
    " 2. Game Development\n",
    " 3. Machine Learning and Artificial Intelligence\n",
    " 4. Data Science and Data Visualization\n",
    " 5. Desktop GUI\n",
    " 6. Web Scraping Applications\n",
    " 7. Business Applications\n",
    " 8. Audio and Video Applications\n",
    " 9. CAD Applications\n",
    " 10. Embedded Applications"
   ]
  },
  {
   "cell_type": "markdown",
   "id": "2d274697",
   "metadata": {},
   "source": [
    "### Python Variable\n",
    "\n",
    "Variables are containers for storing data values."
   ]
  },
  {
   "cell_type": "markdown",
   "id": "1ca75edc",
   "metadata": {},
   "source": [
    "## Variable creation"
   ]
  },
  {
   "cell_type": "code",
   "execution_count": 1,
   "id": "9793bc98",
   "metadata": {},
   "outputs": [
    {
     "name": "stdout",
     "output_type": "stream",
     "text": [
      "Python\n",
      "40.7\n",
      "2\n",
      "4\n"
     ]
    }
   ],
   "source": [
    "a = \"Python\"\n",
    "b = 40.7\n",
    "x = 2\n",
    "y = 4\n",
    "\n",
    "print(a)\n",
    "print(b)\n",
    "print(x)\n",
    "print(y)"
   ]
  },
  {
   "cell_type": "code",
   "execution_count": 2,
   "id": "8dacea50",
   "metadata": {},
   "outputs": [
    {
     "name": "stdout",
     "output_type": "stream",
     "text": [
      "Python\n"
     ]
    }
   ],
   "source": [
    "print(a)"
   ]
  },
  {
   "cell_type": "code",
   "execution_count": 3,
   "id": "cd2a8286",
   "metadata": {},
   "outputs": [
    {
     "name": "stdout",
     "output_type": "stream",
     "text": [
      "40.7\n"
     ]
    }
   ],
   "source": [
    "print(b)"
   ]
  },
  {
   "cell_type": "code",
   "execution_count": 4,
   "id": "955556df",
   "metadata": {},
   "outputs": [
    {
     "name": "stdout",
     "output_type": "stream",
     "text": [
      "2\n"
     ]
    }
   ],
   "source": [
    "print(x)"
   ]
  },
  {
   "cell_type": "code",
   "execution_count": 5,
   "id": "1f4943df",
   "metadata": {},
   "outputs": [
    {
     "name": "stdout",
     "output_type": "stream",
     "text": [
      "ade\n"
     ]
    }
   ],
   "source": [
    "name = \"ade\"\n",
    "print(name)"
   ]
  },
  {
   "cell_type": "code",
   "execution_count": 6,
   "id": "bd267c51",
   "metadata": {},
   "outputs": [
    {
     "name": "stdout",
     "output_type": "stream",
     "text": [
      "Victor\n"
     ]
    }
   ],
   "source": [
    "name_of_student = 'Victor'\n",
    "print(name_of_student)"
   ]
  },
  {
   "cell_type": "markdown",
   "id": "95950a00",
   "metadata": {},
   "source": [
    "## Rules for Naming Variable in Python\n",
    " - A variable name must start with a letter or the underscore character\n",
    " - A variable name cannot start with a number\n",
    " - A variable name can only contain alpha-numeric characters and underscores (A-z, 0-9, and _ )\n",
    " - Variable names are case-sensitive (age, Age and AGE are three different variables)\n",
    " - A variable can have a short name (like x and y) or a more descriptive name (age, carname, total_volume)."
   ]
  },
  {
   "cell_type": "code",
   "execution_count": 7,
   "id": "3262a610",
   "metadata": {},
   "outputs": [
    {
     "name": "stdout",
     "output_type": "stream",
     "text": [
      "25\n"
     ]
    }
   ],
   "source": [
    "Age = 25\n",
    "print(Age)"
   ]
  },
  {
   "cell_type": "code",
   "execution_count": 11,
   "id": "c9311d20",
   "metadata": {},
   "outputs": [
    {
     "ename": "NameError",
     "evalue": "name 'age' is not defined",
     "output_type": "error",
     "traceback": [
      "\u001b[0;31m---------------------------------------------------------------------------\u001b[0m",
      "\u001b[0;31mNameError\u001b[0m                                 Traceback (most recent call last)",
      "\u001b[0;32m/var/folders/2v/ccvhy2cn28vctd3kt9fmhtrm0000gn/T/ipykernel_888/2798478222.py\u001b[0m in \u001b[0;36m<module>\u001b[0;34m\u001b[0m\n\u001b[0;32m----> 1\u001b[0;31m \u001b[0mprint\u001b[0m\u001b[0;34m(\u001b[0m\u001b[0mage\u001b[0m\u001b[0;34m)\u001b[0m\u001b[0;34m\u001b[0m\u001b[0;34m\u001b[0m\u001b[0m\n\u001b[0m",
      "\u001b[0;31mNameError\u001b[0m: name 'age' is not defined"
     ]
    }
   ],
   "source": [
    "print(age)"
   ]
  },
  {
   "cell_type": "code",
   "execution_count": 12,
   "id": "09e4032e",
   "metadata": {},
   "outputs": [
    {
     "name": "stdout",
     "output_type": "stream",
     "text": [
      "34\n"
     ]
    }
   ],
   "source": [
    "_ = 34\n",
    "print(_)"
   ]
  },
  {
   "cell_type": "code",
   "execution_count": 13,
   "id": "278e8c67",
   "metadata": {},
   "outputs": [
    {
     "ename": "SyntaxError",
     "evalue": "cannot assign to literal (752848060.py, line 1)",
     "output_type": "error",
     "traceback": [
      "\u001b[0;36m  File \u001b[0;32m\"/var/folders/2v/ccvhy2cn28vctd3kt9fmhtrm0000gn/T/ipykernel_888/752848060.py\"\u001b[0;36m, line \u001b[0;32m1\u001b[0m\n\u001b[0;31m    1 = \"victor\"\u001b[0m\n\u001b[0m    ^\u001b[0m\n\u001b[0;31mSyntaxError\u001b[0m\u001b[0;31m:\u001b[0m cannot assign to literal\n"
     ]
    }
   ],
   "source": [
    "1 = \"victor\"\n",
    "print(1)"
   ]
  },
  {
   "cell_type": "code",
   "execution_count": 15,
   "id": "0d4d6bf1",
   "metadata": {
    "scrolled": true
   },
   "outputs": [
    {
     "name": "stdout",
     "output_type": "stream",
     "text": [
      "victor\n",
      "2\n"
     ]
    }
   ],
   "source": [
    "num1 = 2\n",
    "name_of_student = 'victor'\n",
    "print(name_of_student)\n",
    "print(num1)"
   ]
  },
  {
   "cell_type": "code",
   "execution_count": null,
   "id": "514078d9",
   "metadata": {},
   "outputs": [],
   "source": [
    "NameOfStudent #.camelscore"
   ]
  },
  {
   "cell_type": "code",
   "execution_count": 16,
   "id": "11b8d59b",
   "metadata": {},
   "outputs": [
    {
     "name": "stdout",
     "output_type": "stream",
     "text": [
      "40\n",
      "30\n",
      "20\n"
     ]
    }
   ],
   "source": [
    "## many value to a variable name\n",
    "\n",
    "a,b,c = 40, 30, 20\n",
    "\n",
    "print(a)\n",
    "print(b)\n",
    "print(c)"
   ]
  },
  {
   "cell_type": "code",
   "execution_count": 20,
   "id": "43973780",
   "metadata": {},
   "outputs": [
    {
     "name": "stdout",
     "output_type": "stream",
     "text": [
      "book pen bag\n",
      "book  pen  bag\n"
     ]
    }
   ],
   "source": [
    "## outputing multiple variable \n",
    "items1 = 'book '\n",
    "items2 = 'pen '\n",
    "items3 = 'bag'\n",
    "\n",
    "print(items1+items2+items3)\n",
    "print(items1,items2,items3)\n",
    "\n",
    "#print(items1)\n",
    "#print(items2)\n",
    "#print(items3)"
   ]
  },
  {
   "cell_type": "markdown",
   "id": "a8b8064b",
   "metadata": {},
   "source": [
    "## Type of variable \n",
    " - Global variable\n",
    " - Local Variable"
   ]
  },
  {
   "cell_type": "markdown",
   "id": "76e00641",
   "metadata": {},
   "source": [
    "## Operators in Python\n",
    "Operators are used to perform operations on variables and values.\n",
    "\n",
    "In the example below, we use the + operator to add together two values:"
   ]
  },
  {
   "cell_type": "code",
   "execution_count": null,
   "id": "25e38415",
   "metadata": {},
   "outputs": [],
   "source": [
    "print(2+2)"
   ]
  },
  {
   "cell_type": "code",
   "execution_count": null,
   "id": "c5440e36",
   "metadata": {},
   "outputs": [],
   "source": [
    "print('2'+'2')"
   ]
  },
  {
   "cell_type": "code",
   "execution_count": null,
   "id": "4a37956c",
   "metadata": {},
   "outputs": [],
   "source": [
    "num1 = 34\n",
    "num2 = 30\n",
    "print(num1+num2)"
   ]
  },
  {
   "cell_type": "markdown",
   "id": "d0c1b86a",
   "metadata": {},
   "source": [
    "Operators in Python can be divided in the following categories:\n",
    "\n",
    " - Arithmetic operators\n",
    " - Assignment operators\n",
    " - Comparison operators\n",
    " - Logical operators\n",
    " - Identity operators\n",
    " - Membership operators\n",
    " - Bitwise operators"
   ]
  },
  {
   "cell_type": "markdown",
   "id": "fff8f537",
   "metadata": {},
   "source": [
    "# Python Arithemetic Operators\n",
    " - Addition\t\t\n",
    " - Subtraction\t\t\n",
    " - Multiplication\n",
    " - Division\n",
    " - Modulus\t\t\n",
    " - Exponentiation\t\n",
    " - Floor division"
   ]
  },
  {
   "cell_type": "markdown",
   "id": "ab5db013",
   "metadata": {},
   "source": [
    "### Addition ( + )"
   ]
  },
  {
   "cell_type": "code",
   "execution_count": 21,
   "id": "d1168a5b",
   "metadata": {},
   "outputs": [
    {
     "name": "stdout",
     "output_type": "stream",
     "text": [
      "76\n"
     ]
    }
   ],
   "source": [
    "x = 39\n",
    "y = 37\n",
    "print(x+y)"
   ]
  },
  {
   "cell_type": "code",
   "execution_count": 22,
   "id": "6a886324",
   "metadata": {},
   "outputs": [
    {
     "name": "stdout",
     "output_type": "stream",
     "text": [
      "Abayomi Abiodun\n"
     ]
    }
   ],
   "source": [
    "fName = \"Abayomi\"\n",
    "lName = \" Abiodun\"\n",
    "\n",
    "print(fName + lName)  # concatenation "
   ]
  },
  {
   "cell_type": "markdown",
   "id": "2672e8aa",
   "metadata": {},
   "source": [
    "## Subtraction ( - )"
   ]
  },
  {
   "cell_type": "code",
   "execution_count": 25,
   "id": "30e156b9",
   "metadata": {},
   "outputs": [
    {
     "name": "stdout",
     "output_type": "stream",
     "text": [
      "39\n"
     ]
    }
   ],
   "source": [
    "num1 = 39\n",
    "num3 = 78\n",
    "print(num3-num1)"
   ]
  },
  {
   "cell_type": "markdown",
   "id": "d42bdc20",
   "metadata": {},
   "source": [
    "## Multiplication"
   ]
  },
  {
   "cell_type": "code",
   "execution_count": 26,
   "id": "df75676f",
   "metadata": {},
   "outputs": [
    {
     "name": "stdout",
     "output_type": "stream",
     "text": [
      "80\n"
     ]
    }
   ],
   "source": [
    "num1 = 2\n",
    "num2 = 40\n",
    "m = num1 * num2\n",
    "print(m)"
   ]
  },
  {
   "cell_type": "code",
   "execution_count": 27,
   "id": "869bfe0f",
   "metadata": {},
   "outputs": [
    {
     "name": "stdout",
     "output_type": "stream",
     "text": [
      " IJAN  IJAN  IJAN  IJAN  IJAN  IJAN  IJAN  IJAN  IJAN  IJAN  IJAN  IJAN  IJAN  IJAN \n"
     ]
    }
   ],
   "source": [
    "name = \" IJAN \"\n",
    "number_of_student = 14\n",
    "print(name * number_of_student)"
   ]
  },
  {
   "cell_type": "code",
   "execution_count": 28,
   "id": "75d7c7b2",
   "metadata": {},
   "outputs": [
    {
     "name": "stdout",
     "output_type": "stream",
     "text": [
      "100\n"
     ]
    }
   ],
   "source": [
    "print(10*10)"
   ]
  },
  {
   "cell_type": "markdown",
   "id": "9c1ba4a9",
   "metadata": {},
   "source": [
    "## Division\n",
    "### Types of division\n",
    " - Float division \n",
    " - Floor division"
   ]
  },
  {
   "cell_type": "code",
   "execution_count": 29,
   "id": "d9b470ca",
   "metadata": {},
   "outputs": [
    {
     "name": "stdout",
     "output_type": "stream",
     "text": [
      "3.0\n"
     ]
    }
   ],
   "source": [
    "# Float division (/)\n",
    "number1 = 30\n",
    "number2 = 90\n",
    "print(number2/number1)"
   ]
  },
  {
   "cell_type": "code",
   "execution_count": 30,
   "id": "f17c8194",
   "metadata": {},
   "outputs": [
    {
     "name": "stdout",
     "output_type": "stream",
     "text": [
      "3\n"
     ]
    }
   ],
   "source": [
    "# Floor division or integer division ( // )\n",
    "number1 = 30\n",
    "number2 = 90\n",
    "print(number2 // number1)"
   ]
  },
  {
   "cell_type": "code",
   "execution_count": 31,
   "id": "d5f242ca",
   "metadata": {},
   "outputs": [
    {
     "name": "stdout",
     "output_type": "stream",
     "text": [
      "3.1666666666666665\n"
     ]
    }
   ],
   "source": [
    "number1 = 30\n",
    "number2 = 95\n",
    "print(number2 / number1)"
   ]
  },
  {
   "cell_type": "code",
   "execution_count": 32,
   "id": "74173d7b",
   "metadata": {},
   "outputs": [
    {
     "name": "stdout",
     "output_type": "stream",
     "text": [
      "3\n"
     ]
    }
   ],
   "source": [
    "number1 = 30\n",
    "number2 = 95\n",
    "print(number2 // number1)"
   ]
  },
  {
   "cell_type": "markdown",
   "id": "4db8310f",
   "metadata": {},
   "source": [
    "## Modulus ( % )"
   ]
  },
  {
   "cell_type": "code",
   "execution_count": null,
   "id": "3493241d",
   "metadata": {},
   "outputs": [],
   "source": [
    "print(7/3) 2 remainder 1"
   ]
  },
  {
   "cell_type": "code",
   "execution_count": 33,
   "id": "250d6e1d",
   "metadata": {},
   "outputs": [
    {
     "name": "stdout",
     "output_type": "stream",
     "text": [
      "1\n"
     ]
    }
   ],
   "source": [
    "# remainder \n",
    "#print(7/3)\n",
    "print(7%3)"
   ]
  },
  {
   "cell_type": "code",
   "execution_count": null,
   "id": "682f16c8",
   "metadata": {},
   "outputs": [],
   "source": [
    "print(10%7)"
   ]
  },
  {
   "cell_type": "markdown",
   "id": "d61aeaa5",
   "metadata": {},
   "source": [
    "## Exponentiation"
   ]
  },
  {
   "cell_type": "code",
   "execution_count": null,
   "id": "e9cc4433",
   "metadata": {},
   "outputs": [],
   "source": [
    "2 * 2* 2"
   ]
  },
  {
   "cell_type": "code",
   "execution_count": 34,
   "id": "4ce13643",
   "metadata": {},
   "outputs": [
    {
     "name": "stdout",
     "output_type": "stream",
     "text": [
      "8\n"
     ]
    }
   ],
   "source": [
    "print(2**3)"
   ]
  },
  {
   "cell_type": "code",
   "execution_count": null,
   "id": "379f8b29",
   "metadata": {},
   "outputs": [],
   "source": [
    "print(7**2)"
   ]
  },
  {
   "cell_type": "markdown",
   "id": "6ffa83a1",
   "metadata": {},
   "source": [
    "## Assignment Operators ( = )\n",
    "#### Assignment operator is usually used for assigning a value to a variable just like IJAN is assigned to Name and 70 is assigned x"
   ]
  },
  {
   "cell_type": "code",
   "execution_count": 35,
   "id": "eb482e66",
   "metadata": {},
   "outputs": [
    {
     "data": {
      "text/plain": [
       "True"
      ]
     },
     "execution_count": 35,
     "metadata": {},
     "output_type": "execute_result"
    }
   ],
   "source": [
    "3 == 3"
   ]
  },
  {
   "cell_type": "code",
   "execution_count": null,
   "id": "ac78cf2b",
   "metadata": {},
   "outputs": [],
   "source": [
    "fName = \"IJAN\"\n",
    "x = 70"
   ]
  },
  {
   "cell_type": "markdown",
   "id": "7f0cd19a",
   "metadata": {},
   "source": [
    "## Built-in Data Type in Python \n",
    "\n",
    "In programming, data type is an important concept.\n",
    "\n",
    "Variables can store data of different types, and different types can do different things.\n",
    "\n",
    "Python has the following data types built-in by default, in these categories:\n",
    "\n",
    " - Text Type:\tstr\n",
    " - Numeric Types:\tint, float, complex\n",
    " - Sequence Types:\tlist, tuple, range\n",
    " - Mapping Type:\tdict \n",
    " - Set Types:\tset\n",
    " - Boolean Type:\tTrue or False "
   ]
  },
  {
   "cell_type": "markdown",
   "id": "d33f7dc8",
   "metadata": {},
   "source": [
    "# String (str) Data type"
   ]
  },
  {
   "cell_type": "code",
   "execution_count": 36,
   "id": "91b0269b",
   "metadata": {
    "scrolled": true
   },
   "outputs": [
    {
     "name": "stdout",
     "output_type": "stream",
     "text": [
      "Emmanuel\n",
      "<class 'str'>\n",
      "IJAN\n",
      "<class 'str'>\n",
      "Python\n",
      "<class 'str'>\n"
     ]
    }
   ],
   "source": [
    "Name = \"Emmanuel\"\n",
    "School = \"IJAN\"\n",
    "Course_of_study = \"Python\"\n",
    "print(Name)\n",
    "print(type(Name))\n",
    "print(School)\n",
    "print(type(School))\n",
    "print(Course_of_study)\n",
    "print(type(Course_of_study))"
   ]
  },
  {
   "cell_type": "code",
   "execution_count": 37,
   "id": "7328349c",
   "metadata": {},
   "outputs": [
    {
     "name": "stdout",
     "output_type": "stream",
     "text": [
      "34\n",
      "<class 'int'>\n"
     ]
    }
   ],
   "source": [
    "num = 34\n",
    "print(num)\n",
    "print(type(num))"
   ]
  },
  {
   "cell_type": "code",
   "execution_count": 38,
   "id": "24e3ae34",
   "metadata": {
    "scrolled": true
   },
   "outputs": [
    {
     "name": "stdout",
     "output_type": "stream",
     "text": [
      "34\n",
      "<class 'str'>\n"
     ]
    }
   ],
   "source": [
    "num = '34'\n",
    "print(num)\n",
    "print(type(num))"
   ]
  },
  {
   "cell_type": "markdown",
   "id": "996c35b1",
   "metadata": {},
   "source": [
    "## Numeric type \n",
    " - int\n",
    " - float\n",
    " - complex"
   ]
  },
  {
   "cell_type": "code",
   "execution_count": 39,
   "id": "ea1eff9f",
   "metadata": {},
   "outputs": [
    {
     "name": "stdout",
     "output_type": "stream",
     "text": [
      "34\n",
      "<class 'int'>\n",
      "49.5\n",
      "<class 'float'>\n",
      "(3+5j)\n",
      "<class 'complex'>\n"
     ]
    }
   ],
   "source": [
    "# Integer data type - whole number \n",
    "num1 = 34\n",
    "# decimal - float data type \n",
    "num2 = 49.5\n",
    "num3 = 3 + 5j\n",
    "print(num1)\n",
    "print(type(num1))\n",
    "print(num2)\n",
    "print(type(num2))\n",
    "print(num3)\n",
    "print(type(num3))"
   ]
  },
  {
   "cell_type": "markdown",
   "id": "23a70818",
   "metadata": {},
   "source": [
    "# List"
   ]
  },
  {
   "cell_type": "code",
   "execution_count": null,
   "id": "f48dc17c",
   "metadata": {},
   "outputs": [],
   "source": [
    "num1 = 30\n",
    "num2 = 40\n",
    "print(num1)"
   ]
  },
  {
   "cell_type": "code",
   "execution_count": 40,
   "id": "147c22b8",
   "metadata": {},
   "outputs": [
    {
     "name": "stdout",
     "output_type": "stream",
     "text": [
      "[1, 2, 3, 4, 5, 6, 7, 8, 9, 90, 100]\n",
      "['Miracle', 'Oluwaseun', 'Victor', 'Emmanuel', 'Oyindamola']\n",
      "<class 'list'>\n",
      "<class 'list'>\n"
     ]
    }
   ],
   "source": [
    "numbers = [1,2,3,4,5,6,7,8,9,90,100]\n",
    "names = [\"Miracle\", \"Oluwaseun\", \"Victor\", \"Emmanuel\", \"Oyindamola\"]\n",
    "print(numbers)\n",
    "print(names)\n",
    "print(type(numbers))\n",
    "print(type(names))"
   ]
  },
  {
   "cell_type": "markdown",
   "id": "7231fcf4",
   "metadata": {},
   "source": [
    "# Tuple"
   ]
  },
  {
   "cell_type": "code",
   "execution_count": 41,
   "id": "b32d7faa",
   "metadata": {},
   "outputs": [
    {
     "name": "stdout",
     "output_type": "stream",
     "text": [
      "(1, 2, 3, 4, 5, 6, 7, 8, 9, 90, 100)\n",
      "('Miracle', 'Oluwaseun', 'Victor', 'Emmanuel', 'Oyindamola')\n",
      "<class 'tuple'>\n",
      "<class 'tuple'>\n"
     ]
    }
   ],
   "source": [
    "numbers = (1,2,3,4,5,6,7,8,9,90,100)\n",
    "names = (\"Miracle\", \"Oluwaseun\", \"Victor\", \"Emmanuel\", \"Oyindamola\")\n",
    "print(numbers)\n",
    "print(names)\n",
    "print(type(numbers))\n",
    "print(type(names))"
   ]
  },
  {
   "cell_type": "markdown",
   "id": "cb59922f",
   "metadata": {},
   "source": [
    "# Range"
   ]
  },
  {
   "cell_type": "code",
   "execution_count": 42,
   "id": "9d5ac262",
   "metadata": {},
   "outputs": [
    {
     "name": "stdout",
     "output_type": "stream",
     "text": [
      "range(1, 20)\n",
      "<class 'range'>\n"
     ]
    }
   ],
   "source": [
    "r = range(1,20)\n",
    "print(r)\n",
    "print(type(r))"
   ]
  },
  {
   "cell_type": "code",
   "execution_count": 43,
   "id": "aa208f96",
   "metadata": {},
   "outputs": [
    {
     "name": "stdout",
     "output_type": "stream",
     "text": [
      "1\n",
      "2\n",
      "3\n",
      "4\n",
      "5\n",
      "6\n",
      "7\n",
      "8\n",
      "9\n",
      "10\n",
      "11\n",
      "12\n",
      "13\n",
      "14\n",
      "15\n",
      "16\n",
      "17\n",
      "18\n",
      "19\n"
     ]
    }
   ],
   "source": [
    "for i in range(1,20):\n",
    "    print(i)"
   ]
  },
  {
   "cell_type": "markdown",
   "id": "1fa3276e",
   "metadata": {},
   "source": [
    "## Dictionary"
   ]
  },
  {
   "cell_type": "code",
   "execution_count": 44,
   "id": "9bceff82",
   "metadata": {},
   "outputs": [
    {
     "name": "stdout",
     "output_type": "stream",
     "text": [
      "{'name': 'IJAN', 'AGE': 23, 'Course': 'Python'}\n",
      "<class 'dict'>\n"
     ]
    }
   ],
   "source": [
    "d = {\"name\": \"IJAN\", \"AGE\": 23, \"Course\":\"Python\"}\n",
    "print(d)\n",
    "print(type(d))"
   ]
  },
  {
   "cell_type": "code",
   "execution_count": 45,
   "id": "096465c2",
   "metadata": {},
   "outputs": [
    {
     "name": "stdout",
     "output_type": "stream",
     "text": [
      "{'Ijan', 1, 2, 3, 4, 'ade'}\n"
     ]
    }
   ],
   "source": [
    "s = {1,2,3,4,'ade', 'Ijan'}\n",
    "print(s)"
   ]
  },
  {
   "cell_type": "markdown",
   "id": "e73428c0",
   "metadata": {},
   "source": [
    "## Set"
   ]
  },
  {
   "cell_type": "code",
   "execution_count": 46,
   "id": "58f29aa3",
   "metadata": {},
   "outputs": [
    {
     "name": "stdout",
     "output_type": "stream",
     "text": [
      "{1, 2, 3, 4, 5, 6, 7, 8}\n",
      "<class 'set'>\n"
     ]
    }
   ],
   "source": [
    "s = {1,2,1,1,3,4,5,6,7,5,8,4,5}\n",
    "print(s)\n",
    "print(type(s))"
   ]
  },
  {
   "cell_type": "markdown",
   "id": "d77cd547",
   "metadata": {},
   "source": [
    "## Boolean ( True or False )"
   ]
  },
  {
   "cell_type": "code",
   "execution_count": 47,
   "id": "d200b100",
   "metadata": {},
   "outputs": [
    {
     "name": "stdout",
     "output_type": "stream",
     "text": [
      "True\n"
     ]
    }
   ],
   "source": [
    "print(2 == 2)"
   ]
  },
  {
   "cell_type": "code",
   "execution_count": 48,
   "id": "99f06f27",
   "metadata": {},
   "outputs": [
    {
     "name": "stdout",
     "output_type": "stream",
     "text": [
      "False\n"
     ]
    }
   ],
   "source": [
    "print(2 > 3)"
   ]
  },
  {
   "cell_type": "code",
   "execution_count": 49,
   "id": "092bec1a",
   "metadata": {
    "scrolled": true
   },
   "outputs": [
    {
     "name": "stdout",
     "output_type": "stream",
     "text": [
      "True\n"
     ]
    }
   ],
   "source": [
    "print(4<5)"
   ]
  },
  {
   "cell_type": "markdown",
   "id": "edd66b98",
   "metadata": {},
   "source": [
    "# Type casting"
   ]
  },
  {
   "cell_type": "markdown",
   "id": "922c4c78",
   "metadata": {},
   "source": [
    "## Specify a Variable Type\n",
    "#### There may be times when you want to specify a type on to a variable. This can be done with casting. Python is an object-orientated language, and as such it uses classes to define data types, including its primitive types.\n",
    "\n",
    " ### Casting in python is therefore done using constructor functions:\n",
    "\n",
    " - int() - constructs an integer number from an integer literal, a float literal (by removing all decimals), or a string literal (providing the string represents a whole number)\n",
    " - float() - constructs a float number from an integer literal, a float literal or a string literal (providing the string represents a float or an integer)\n",
    " - str() - constructs a string from a wide variety of data types, including strings, integer literals and float literals\n"
   ]
  },
  {
   "cell_type": "markdown",
   "id": "18952805",
   "metadata": {},
   "source": [
    "## Int"
   ]
  },
  {
   "cell_type": "code",
   "execution_count": 50,
   "id": "922ebef3",
   "metadata": {},
   "outputs": [
    {
     "name": "stdout",
     "output_type": "stream",
     "text": [
      "<class 'float'>\n"
     ]
    }
   ],
   "source": [
    "n = 20.78 \n",
    "print(type(n))"
   ]
  },
  {
   "cell_type": "code",
   "execution_count": 51,
   "id": "b576456d",
   "metadata": {},
   "outputs": [
    {
     "name": "stdout",
     "output_type": "stream",
     "text": [
      "20\n",
      "<class 'int'>\n"
     ]
    }
   ],
   "source": [
    "x = int(20.78)\n",
    "print(x)\n",
    "print(type(x))"
   ]
  },
  {
   "cell_type": "code",
   "execution_count": 52,
   "id": "5c31cbf8",
   "metadata": {},
   "outputs": [
    {
     "name": "stdout",
     "output_type": "stream",
     "text": [
      "20\n",
      "<class 'int'>\n",
      "48\n",
      "<class 'int'>\n",
      "550\n",
      "<class 'int'>\n"
     ]
    }
   ],
   "source": [
    "x = int(20.78)   # x will be 20\n",
    "y = int(48.8) # y will be 48\n",
    "z = int(\"550\") # z will be 550\n",
    "\n",
    "print(x)\n",
    "print(type(x))\n",
    "print(y)\n",
    "print(type(y))\n",
    "print(z)\n",
    "print(type(z))"
   ]
  },
  {
   "cell_type": "markdown",
   "id": "0e2895c5",
   "metadata": {},
   "source": [
    "# Float"
   ]
  },
  {
   "cell_type": "code",
   "execution_count": 53,
   "id": "cc4c2833",
   "metadata": {},
   "outputs": [
    {
     "name": "stdout",
     "output_type": "stream",
     "text": [
      "20.0\n",
      "<class 'float'>\n",
      "48.8\n",
      "<class 'float'>\n",
      "550.0\n",
      "<class 'float'>\n"
     ]
    }
   ],
   "source": [
    "x = float(20)   # x will be 20.0\n",
    "y = float(48.8) # y will be 48.8\n",
    "z = float(\"550\") # z will be 550.0\n",
    "\n",
    "print(x)\n",
    "print(type(x))\n",
    "print(y)\n",
    "print((type(y)))\n",
    "print(z)\n",
    "print(type(z))"
   ]
  },
  {
   "cell_type": "markdown",
   "id": "ffbcaa62",
   "metadata": {},
   "source": [
    "## Strings"
   ]
  },
  {
   "cell_type": "code",
   "execution_count": 54,
   "id": "4a3fb4f8",
   "metadata": {},
   "outputs": [
    {
     "name": "stdout",
     "output_type": "stream",
     "text": [
      "20\n",
      "<class 'str'>\n",
      "48.8\n",
      "<class 'str'>\n",
      "550\n",
      "<class 'str'>\n"
     ]
    }
   ],
   "source": [
    "x = str(20)   # x will be '20'\n",
    "y = str(48.8) # y will be '48'\n",
    "z = str(\"550\") # z will be '550'\n",
    "\n",
    "print(x)\n",
    "print(type(x))\n",
    "print(y)\n",
    "print(type(y))\n",
    "print(z)\n",
    "print(type(z))"
   ]
  },
  {
   "cell_type": "code",
   "execution_count": null,
   "id": "82e806b8",
   "metadata": {},
   "outputs": [],
   "source": [
    "print(x)"
   ]
  },
  {
   "cell_type": "code",
   "execution_count": null,
   "id": "2fb4a03c",
   "metadata": {},
   "outputs": [],
   "source": [
    "print(y)"
   ]
  },
  {
   "cell_type": "code",
   "execution_count": null,
   "id": "07f67689",
   "metadata": {},
   "outputs": [],
   "source": [
    "print((x + y))"
   ]
  },
  {
   "cell_type": "code",
   "execution_count": null,
   "id": "03d31f91",
   "metadata": {},
   "outputs": [],
   "source": []
  }
 ],
 "metadata": {
  "kernelspec": {
   "display_name": "Python 3 (ipykernel)",
   "language": "python",
   "name": "python3"
  },
  "language_info": {
   "codemirror_mode": {
    "name": "ipython",
    "version": 3
   },
   "file_extension": ".py",
   "mimetype": "text/x-python",
   "name": "python",
   "nbconvert_exporter": "python",
   "pygments_lexer": "ipython3",
   "version": "3.9.13"
  }
 },
 "nbformat": 4,
 "nbformat_minor": 5
}
